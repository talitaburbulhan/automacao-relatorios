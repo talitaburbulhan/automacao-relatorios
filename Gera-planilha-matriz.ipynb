{
 "cells": [
  {
   "cell_type": "markdown",
   "id": "5924114a",
   "metadata": {},
   "source": [
    "# Limpeza e organização das Bases"
   ]
  },
  {
   "cell_type": "markdown",
   "id": "ef2380fb",
   "metadata": {},
   "source": [
    "Após etiquetar e classificar manualmente as planilhas das postagens de mídias sociais do Buffer e de verificar se todas elas estão com as observações alinhadas, a etapa seguinte será a de limpeza e organização dos dados. "
   ]
  },
  {
   "cell_type": "code",
   "execution_count": 17,
   "id": "a80511c3",
   "metadata": {},
   "outputs": [],
   "source": [
    "import os\n",
    "import numpy as np\n",
    "import pandas as pd"
   ]
  },
  {
   "cell_type": "markdown",
   "id": "8552627f",
   "metadata": {},
   "source": [
    "👇🏼 Localizo onde estão salvas as planilhas que foram anteriormente etiquetadas e classificadas "
   ]
  },
  {
   "cell_type": "code",
   "execution_count": 18,
   "id": "09781f69",
   "metadata": {},
   "outputs": [],
   "source": [
    "os.chdir('D:/OneDrive/Documentos/_CURSOS/_MASTER/AULAS/_PROJETO FINAL/TESTE/AGOSTO 2021')"
   ]
  },
  {
   "cell_type": "code",
   "execution_count": 19,
   "id": "288201e1",
   "metadata": {},
   "outputs": [
    {
     "data": {
      "text/plain": [
       "['Facebook Agosto 2021 (1).xlsx',\n",
       " 'Instagram Agosto 2021.xlsx',\n",
       " 'Twitter Agosto 2021.xlsx']"
      ]
     },
     "execution_count": 19,
     "metadata": {},
     "output_type": "execute_result"
    }
   ],
   "source": [
    "os.listdir()"
   ]
  },
  {
   "cell_type": "code",
   "execution_count": 20,
   "id": "3237e873",
   "metadata": {},
   "outputs": [],
   "source": [
    "face = pd.read_excel('Facebook Agosto 2021 (1).xlsx')\n",
    "insta = pd.read_excel('Instagram Agosto 2021.xlsx')\n",
    "twitter = pd.read_excel('Twitter Agosto 2021.xlsx')"
   ]
  },
  {
   "cell_type": "markdown",
   "id": "77b1b72f",
   "metadata": {},
   "source": [
    "👇🏼 Verifico o número de linhas de cada planilha e a quantidade total de linhas para poder checar se, ao longo do processo, não houve alteração na quantidade de dados"
   ]
  },
  {
   "cell_type": "code",
   "execution_count": 21,
   "id": "51d731a9",
   "metadata": {},
   "outputs": [
    {
     "data": {
      "text/plain": [
       "69"
      ]
     },
     "execution_count": 21,
     "metadata": {},
     "output_type": "execute_result"
    }
   ],
   "source": [
    "linhas_face = len(face)\n",
    "linhas_face"
   ]
  },
  {
   "cell_type": "code",
   "execution_count": 22,
   "id": "b56aa024",
   "metadata": {},
   "outputs": [
    {
     "data": {
      "text/plain": [
       "80"
      ]
     },
     "execution_count": 22,
     "metadata": {},
     "output_type": "execute_result"
    }
   ],
   "source": [
    "linhas_insta = len(insta)\n",
    "linhas_insta"
   ]
  },
  {
   "cell_type": "code",
   "execution_count": 23,
   "id": "414f9ccd",
   "metadata": {},
   "outputs": [
    {
     "data": {
      "text/plain": [
       "82"
      ]
     },
     "execution_count": 23,
     "metadata": {},
     "output_type": "execute_result"
    }
   ],
   "source": [
    "linhas_twitter = len(twitter)\n",
    "linhas_twitter"
   ]
  },
  {
   "cell_type": "code",
   "execution_count": 24,
   "id": "e4c7dfd9",
   "metadata": {},
   "outputs": [
    {
     "data": {
      "text/plain": [
       "231"
      ]
     },
     "execution_count": 24,
     "metadata": {},
     "output_type": "execute_result"
    }
   ],
   "source": [
    "total_linhas = linhas_face + linhas_insta + linhas_twitter\n",
    "total_linhas "
   ]
  },
  {
   "cell_type": "markdown",
   "id": "62512af4",
   "metadata": {},
   "source": [
    "# Base do Facebook"
   ]
  },
  {
   "cell_type": "code",
   "execution_count": 25,
   "id": "a947e7d5",
   "metadata": {},
   "outputs": [
    {
     "data": {
      "text/html": [
       "<div>\n",
       "<style scoped>\n",
       "    .dataframe tbody tr th:only-of-type {\n",
       "        vertical-align: middle;\n",
       "    }\n",
       "\n",
       "    .dataframe tbody tr th {\n",
       "        vertical-align: top;\n",
       "    }\n",
       "\n",
       "    .dataframe thead th {\n",
       "        text-align: right;\n",
       "    }\n",
       "</style>\n",
       "<table border=\"1\" class=\"dataframe\">\n",
       "  <thead>\n",
       "    <tr style=\"text-align: right;\">\n",
       "      <th></th>\n",
       "      <th>Item da planilha</th>\n",
       "      <th>Etiqueta</th>\n",
       "      <th>date</th>\n",
       "      <th>text</th>\n",
       "      <th>serviceLink</th>\n",
       "      <th>clicks</th>\n",
       "      <th>comments</th>\n",
       "      <th>engagement</th>\n",
       "      <th>engagement_rate</th>\n",
       "      <th>impressions</th>\n",
       "      <th>likes</th>\n",
       "      <th>reach</th>\n",
       "      <th>reactions</th>\n",
       "      <th>shares</th>\n",
       "      <th>type</th>\n",
       "    </tr>\n",
       "  </thead>\n",
       "  <tbody>\n",
       "    <tr>\n",
       "      <th>0</th>\n",
       "      <td>Publicaciones de Aliades</td>\n",
       "      <td>Publicaciones de Aliades</td>\n",
       "      <td>2021-03-08 08:19:21</td>\n",
       "      <td>ENTIDADES PEDEM APRIMORAMENTO DOS CRITÉRIOS DE...</td>\n",
       "      <td>https://facebook.com/345687158828714/posts/437...</td>\n",
       "      <td>2</td>\n",
       "      <td>0</td>\n",
       "      <td>6</td>\n",
       "      <td>821917808219178</td>\n",
       "      <td>73</td>\n",
       "      <td>4</td>\n",
       "      <td>62</td>\n",
       "      <td>4</td>\n",
       "      <td>0</td>\n",
       "      <td>image</td>\n",
       "    </tr>\n",
       "    <tr>\n",
       "      <th>1</th>\n",
       "      <td>Campaña Defensa de Defensoras y Defensores</td>\n",
       "      <td>Sinergia Popular</td>\n",
       "      <td>2021-04-08 09:00:42</td>\n",
       "      <td>#EP3 | 🎧 PODCAST SINERGIA POPULAR No terceiro ...</td>\n",
       "      <td>https://facebook.com/345687158828714/posts/437...</td>\n",
       "      <td>1</td>\n",
       "      <td>0</td>\n",
       "      <td>5</td>\n",
       "      <td>12195121951219500</td>\n",
       "      <td>41</td>\n",
       "      <td>2</td>\n",
       "      <td>34</td>\n",
       "      <td>4</td>\n",
       "      <td>0</td>\n",
       "      <td>link</td>\n",
       "    </tr>\n",
       "  </tbody>\n",
       "</table>\n",
       "</div>"
      ],
      "text/plain": [
       "                              Item da planilha                  Etiqueta  \\\n",
       "0                     Publicaciones de Aliades  Publicaciones de Aliades   \n",
       "1  Campaña Defensa de Defensoras y Defensores           Sinergia Popular   \n",
       "\n",
       "                  date                                               text  \\\n",
       "0  2021-03-08 08:19:21  ENTIDADES PEDEM APRIMORAMENTO DOS CRITÉRIOS DE...   \n",
       "1  2021-04-08 09:00:42  #EP3 | 🎧 PODCAST SINERGIA POPULAR No terceiro ...   \n",
       "\n",
       "                                         serviceLink  clicks  comments  \\\n",
       "0  https://facebook.com/345687158828714/posts/437...       2         0   \n",
       "1  https://facebook.com/345687158828714/posts/437...       1         0   \n",
       "\n",
       "   engagement    engagement_rate  impressions  likes  reach  reactions  \\\n",
       "0           6    821917808219178           73      4     62          4   \n",
       "1           5  12195121951219500           41      2     34          4   \n",
       "\n",
       "   shares   type  \n",
       "0       0  image  \n",
       "1       0   link  "
      ]
     },
     "execution_count": 25,
     "metadata": {},
     "output_type": "execute_result"
    }
   ],
   "source": [
    "face.head(2)"
   ]
  },
  {
   "cell_type": "code",
   "execution_count": 26,
   "id": "450e42f1",
   "metadata": {},
   "outputs": [
    {
     "data": {
      "text/plain": [
       "Index(['Item da planilha', 'Etiqueta', 'date', 'text', 'serviceLink', 'clicks',\n",
       "       'comments', 'engagement', 'engagement_rate', 'impressions', 'likes',\n",
       "       'reach', 'reactions', 'shares', 'type'],\n",
       "      dtype='object')"
      ]
     },
     "execution_count": 26,
     "metadata": {},
     "output_type": "execute_result"
    }
   ],
   "source": [
    "face.columns"
   ]
  },
  {
   "cell_type": "markdown",
   "id": "feb8a211",
   "metadata": {},
   "source": [
    "👇🏼 Padronizo os nomes das colunas que foram criadas para classificar e etiquetar as postagens. A grafia delas destoa de mês para mês. "
   ]
  },
  {
   "cell_type": "code",
   "execution_count": 29,
   "id": "dd6a02e9",
   "metadata": {},
   "outputs": [],
   "source": [
    "face.rename(columns={face.columns[0]:'item da planilha', face.columns[1]:'etiqueta' }, inplace=True)"
   ]
  },
  {
   "cell_type": "code",
   "execution_count": 30,
   "id": "7941ec17",
   "metadata": {},
   "outputs": [
    {
     "data": {
      "text/html": [
       "<div>\n",
       "<style scoped>\n",
       "    .dataframe tbody tr th:only-of-type {\n",
       "        vertical-align: middle;\n",
       "    }\n",
       "\n",
       "    .dataframe tbody tr th {\n",
       "        vertical-align: top;\n",
       "    }\n",
       "\n",
       "    .dataframe thead th {\n",
       "        text-align: right;\n",
       "    }\n",
       "</style>\n",
       "<table border=\"1\" class=\"dataframe\">\n",
       "  <thead>\n",
       "    <tr style=\"text-align: right;\">\n",
       "      <th></th>\n",
       "      <th>item da planilha</th>\n",
       "      <th>etiqueta</th>\n",
       "      <th>date</th>\n",
       "      <th>text</th>\n",
       "      <th>serviceLink</th>\n",
       "      <th>clicks</th>\n",
       "      <th>comments</th>\n",
       "      <th>engagement</th>\n",
       "      <th>engagement_rate</th>\n",
       "      <th>impressions</th>\n",
       "      <th>likes</th>\n",
       "      <th>reach</th>\n",
       "      <th>reactions</th>\n",
       "      <th>shares</th>\n",
       "      <th>type</th>\n",
       "    </tr>\n",
       "  </thead>\n",
       "  <tbody>\n",
       "    <tr>\n",
       "      <th>0</th>\n",
       "      <td>Publicaciones de Aliades</td>\n",
       "      <td>Publicaciones de Aliades</td>\n",
       "      <td>2021-03-08 08:19:21</td>\n",
       "      <td>ENTIDADES PEDEM APRIMORAMENTO DOS CRITÉRIOS DE...</td>\n",
       "      <td>https://facebook.com/345687158828714/posts/437...</td>\n",
       "      <td>2</td>\n",
       "      <td>0</td>\n",
       "      <td>6</td>\n",
       "      <td>821917808219178</td>\n",
       "      <td>73</td>\n",
       "      <td>4</td>\n",
       "      <td>62</td>\n",
       "      <td>4</td>\n",
       "      <td>0</td>\n",
       "      <td>image</td>\n",
       "    </tr>\n",
       "    <tr>\n",
       "      <th>1</th>\n",
       "      <td>Campaña Defensa de Defensoras y Defensores</td>\n",
       "      <td>Sinergia Popular</td>\n",
       "      <td>2021-04-08 09:00:42</td>\n",
       "      <td>#EP3 | 🎧 PODCAST SINERGIA POPULAR No terceiro ...</td>\n",
       "      <td>https://facebook.com/345687158828714/posts/437...</td>\n",
       "      <td>1</td>\n",
       "      <td>0</td>\n",
       "      <td>5</td>\n",
       "      <td>12195121951219500</td>\n",
       "      <td>41</td>\n",
       "      <td>2</td>\n",
       "      <td>34</td>\n",
       "      <td>4</td>\n",
       "      <td>0</td>\n",
       "      <td>link</td>\n",
       "    </tr>\n",
       "  </tbody>\n",
       "</table>\n",
       "</div>"
      ],
      "text/plain": [
       "                              item da planilha                  etiqueta  \\\n",
       "0                     Publicaciones de Aliades  Publicaciones de Aliades   \n",
       "1  Campaña Defensa de Defensoras y Defensores           Sinergia Popular   \n",
       "\n",
       "                  date                                               text  \\\n",
       "0  2021-03-08 08:19:21  ENTIDADES PEDEM APRIMORAMENTO DOS CRITÉRIOS DE...   \n",
       "1  2021-04-08 09:00:42  #EP3 | 🎧 PODCAST SINERGIA POPULAR No terceiro ...   \n",
       "\n",
       "                                         serviceLink  clicks  comments  \\\n",
       "0  https://facebook.com/345687158828714/posts/437...       2         0   \n",
       "1  https://facebook.com/345687158828714/posts/437...       1         0   \n",
       "\n",
       "   engagement    engagement_rate  impressions  likes  reach  reactions  \\\n",
       "0           6    821917808219178           73      4     62          4   \n",
       "1           5  12195121951219500           41      2     34          4   \n",
       "\n",
       "   shares   type  \n",
       "0       0  image  \n",
       "1       0   link  "
      ]
     },
     "execution_count": 30,
     "metadata": {},
     "output_type": "execute_result"
    }
   ],
   "source": [
    "face.head(2)"
   ]
  },
  {
   "cell_type": "markdown",
   "id": "38319f39",
   "metadata": {},
   "source": [
    "👇🏼 Faço um recorte da planilha apenas com as colunas que me interessam."
   ]
  },
  {
   "cell_type": "code",
   "execution_count": 31,
   "id": "d58875ce",
   "metadata": {},
   "outputs": [],
   "source": [
    "face_limpa = face[['item da planilha','date','impressions', 'reach', 'engagement', 'etiqueta', 'serviceLink']]"
   ]
  },
  {
   "cell_type": "code",
   "execution_count": 32,
   "id": "c434f221",
   "metadata": {},
   "outputs": [
    {
     "data": {
      "text/html": [
       "<div>\n",
       "<style scoped>\n",
       "    .dataframe tbody tr th:only-of-type {\n",
       "        vertical-align: middle;\n",
       "    }\n",
       "\n",
       "    .dataframe tbody tr th {\n",
       "        vertical-align: top;\n",
       "    }\n",
       "\n",
       "    .dataframe thead th {\n",
       "        text-align: right;\n",
       "    }\n",
       "</style>\n",
       "<table border=\"1\" class=\"dataframe\">\n",
       "  <thead>\n",
       "    <tr style=\"text-align: right;\">\n",
       "      <th></th>\n",
       "      <th>item da planilha</th>\n",
       "      <th>date</th>\n",
       "      <th>impressions</th>\n",
       "      <th>reach</th>\n",
       "      <th>engagement</th>\n",
       "      <th>etiqueta</th>\n",
       "      <th>serviceLink</th>\n",
       "    </tr>\n",
       "  </thead>\n",
       "  <tbody>\n",
       "    <tr>\n",
       "      <th>0</th>\n",
       "      <td>Publicaciones de Aliades</td>\n",
       "      <td>2021-03-08 08:19:21</td>\n",
       "      <td>73</td>\n",
       "      <td>62</td>\n",
       "      <td>6</td>\n",
       "      <td>Publicaciones de Aliades</td>\n",
       "      <td>https://facebook.com/345687158828714/posts/437...</td>\n",
       "    </tr>\n",
       "    <tr>\n",
       "      <th>1</th>\n",
       "      <td>Campaña Defensa de Defensoras y Defensores</td>\n",
       "      <td>2021-04-08 09:00:42</td>\n",
       "      <td>41</td>\n",
       "      <td>34</td>\n",
       "      <td>5</td>\n",
       "      <td>Sinergia Popular</td>\n",
       "      <td>https://facebook.com/345687158828714/posts/437...</td>\n",
       "    </tr>\n",
       "  </tbody>\n",
       "</table>\n",
       "</div>"
      ],
      "text/plain": [
       "                              item da planilha                 date  \\\n",
       "0                     Publicaciones de Aliades  2021-03-08 08:19:21   \n",
       "1  Campaña Defensa de Defensoras y Defensores   2021-04-08 09:00:42   \n",
       "\n",
       "   impressions  reach  engagement                  etiqueta  \\\n",
       "0           73     62           6  Publicaciones de Aliades   \n",
       "1           41     34           5          Sinergia Popular   \n",
       "\n",
       "                                         serviceLink  \n",
       "0  https://facebook.com/345687158828714/posts/437...  \n",
       "1  https://facebook.com/345687158828714/posts/437...  "
      ]
     },
     "execution_count": 32,
     "metadata": {},
     "output_type": "execute_result"
    }
   ],
   "source": [
    "face_limpa.head(2)"
   ]
  },
  {
   "cell_type": "markdown",
   "id": "b54a632d",
   "metadata": {},
   "source": [
    "👇🏼 Verifico se, após as modificações, a planilha continua com a mesma quantidade de linhas. "
   ]
  },
  {
   "cell_type": "code",
   "execution_count": 33,
   "id": "3c6b12be",
   "metadata": {},
   "outputs": [
    {
     "data": {
      "text/plain": [
       "69"
      ]
     },
     "execution_count": 33,
     "metadata": {},
     "output_type": "execute_result"
    }
   ],
   "source": [
    "len(face_limpa)"
   ]
  },
  {
   "cell_type": "markdown",
   "id": "b0680adc",
   "metadata": {},
   "source": [
    "# Base de dados do Instagram"
   ]
  },
  {
   "cell_type": "code",
   "execution_count": 34,
   "id": "fb93cdad",
   "metadata": {},
   "outputs": [
    {
     "data": {
      "text/html": [
       "<div>\n",
       "<style scoped>\n",
       "    .dataframe tbody tr th:only-of-type {\n",
       "        vertical-align: middle;\n",
       "    }\n",
       "\n",
       "    .dataframe tbody tr th {\n",
       "        vertical-align: top;\n",
       "    }\n",
       "\n",
       "    .dataframe thead th {\n",
       "        text-align: right;\n",
       "    }\n",
       "</style>\n",
       "<table border=\"1\" class=\"dataframe\">\n",
       "  <thead>\n",
       "    <tr style=\"text-align: right;\">\n",
       "      <th></th>\n",
       "      <th>Item da planilha</th>\n",
       "      <th>etiqueta</th>\n",
       "      <th>date</th>\n",
       "      <th>serviceLink</th>\n",
       "      <th>comments</th>\n",
       "      <th>engagement</th>\n",
       "      <th>impressions</th>\n",
       "      <th>likes</th>\n",
       "      <th>reach</th>\n",
       "      <th>saves</th>\n",
       "      <th>...</th>\n",
       "      <th>Unnamed: 14</th>\n",
       "      <th>Unnamed: 15</th>\n",
       "      <th>Unnamed: 16</th>\n",
       "      <th>Unnamed: 17</th>\n",
       "      <th>Unnamed: 18</th>\n",
       "      <th>Unnamed: 19</th>\n",
       "      <th>Unnamed: 20</th>\n",
       "      <th>Unnamed: 21</th>\n",
       "      <th>Unnamed: 22</th>\n",
       "      <th>Unnamed: 23</th>\n",
       "    </tr>\n",
       "  </thead>\n",
       "  <tbody>\n",
       "    <tr>\n",
       "      <th>0</th>\n",
       "      <td>Campaña Defensa de Defensoras y Defensores</td>\n",
       "      <td>Sinergia Popular</td>\n",
       "      <td>08/26/2021 09:01:10</td>\n",
       "      <td>https://www.instagram.com/p/CTCW-LJrgRi/</td>\n",
       "      <td>4</td>\n",
       "      <td>40</td>\n",
       "      <td>193</td>\n",
       "      <td>36</td>\n",
       "      <td>174</td>\n",
       "      <td>0</td>\n",
       "      <td>...</td>\n",
       "      <td>NaN</td>\n",
       "      <td>NaN</td>\n",
       "      <td>NaN</td>\n",
       "      <td>NaN</td>\n",
       "      <td>NaN</td>\n",
       "      <td>NaN</td>\n",
       "      <td>NaN</td>\n",
       "      <td>NaN</td>\n",
       "      <td>NaN</td>\n",
       "      <td>NaN</td>\n",
       "    </tr>\n",
       "    <tr>\n",
       "      <th>1</th>\n",
       "      <td>Publicaciones de Aliades</td>\n",
       "      <td>Pueblos indígenas</td>\n",
       "      <td>08/25/2021 15:07:08</td>\n",
       "      <td>https://www.instagram.com/p/CTAcDs-pMI1/</td>\n",
       "      <td>0</td>\n",
       "      <td>28</td>\n",
       "      <td>160</td>\n",
       "      <td>27</td>\n",
       "      <td>126</td>\n",
       "      <td>1</td>\n",
       "      <td>...</td>\n",
       "      <td>NaN</td>\n",
       "      <td>NaN</td>\n",
       "      <td>NaN</td>\n",
       "      <td>NaN</td>\n",
       "      <td>NaN</td>\n",
       "      <td>NaN</td>\n",
       "      <td>NaN</td>\n",
       "      <td>NaN</td>\n",
       "      <td>NaN</td>\n",
       "      <td>NaN</td>\n",
       "    </tr>\n",
       "  </tbody>\n",
       "</table>\n",
       "<p>2 rows × 24 columns</p>\n",
       "</div>"
      ],
      "text/plain": [
       "                              Item da planilha           etiqueta  \\\n",
       "0  Campaña Defensa de Defensoras y Defensores    Sinergia Popular   \n",
       "1                     Publicaciones de Aliades  Pueblos indígenas   \n",
       "\n",
       "                  date                               serviceLink  comments  \\\n",
       "0  08/26/2021 09:01:10  https://www.instagram.com/p/CTCW-LJrgRi/         4   \n",
       "1  08/25/2021 15:07:08  https://www.instagram.com/p/CTAcDs-pMI1/         0   \n",
       "\n",
       "   engagement  impressions  likes  reach  saves  ... Unnamed: 14 Unnamed: 15  \\\n",
       "0          40          193     36    174      0  ...         NaN         NaN   \n",
       "1          28          160     27    126      1  ...         NaN         NaN   \n",
       "\n",
       "  Unnamed: 16 Unnamed: 17 Unnamed: 18 Unnamed: 19 Unnamed: 20 Unnamed: 21  \\\n",
       "0         NaN         NaN         NaN         NaN         NaN         NaN   \n",
       "1         NaN         NaN         NaN         NaN         NaN         NaN   \n",
       "\n",
       "   Unnamed: 22  Unnamed: 23  \n",
       "0          NaN          NaN  \n",
       "1          NaN          NaN  \n",
       "\n",
       "[2 rows x 24 columns]"
      ]
     },
     "execution_count": 34,
     "metadata": {},
     "output_type": "execute_result"
    }
   ],
   "source": [
    "insta.head(2)"
   ]
  },
  {
   "cell_type": "code",
   "execution_count": 35,
   "id": "07f12fee",
   "metadata": {},
   "outputs": [
    {
     "data": {
      "text/plain": [
       "Index(['Item da planilha', 'etiqueta', 'date', 'serviceLink', 'comments',\n",
       "       'engagement', 'impressions', 'likes', 'reach', 'saves', 'type', 'text',\n",
       "       'Unnamed: 12', 'Unnamed: 13', 'Unnamed: 14', 'Unnamed: 15',\n",
       "       'Unnamed: 16', 'Unnamed: 17', 'Unnamed: 18', 'Unnamed: 19',\n",
       "       'Unnamed: 20', 'Unnamed: 21', 'Unnamed: 22', 'Unnamed: 23'],\n",
       "      dtype='object')"
      ]
     },
     "execution_count": 35,
     "metadata": {},
     "output_type": "execute_result"
    }
   ],
   "source": [
    "insta.columns"
   ]
  },
  {
   "cell_type": "markdown",
   "id": "6e5e74ec",
   "metadata": {},
   "source": [
    "👇🏼 Padronizo os nomes das colunas que foram criadas para classificar e etiquetar as postagens. A grafia delas destoa de mês para mês."
   ]
  },
  {
   "cell_type": "code",
   "execution_count": 36,
   "id": "9e220b05",
   "metadata": {},
   "outputs": [],
   "source": [
    "insta.rename(columns={insta.columns[0]:'item da planilha', insta.columns[1]:'etiqueta' }, inplace=True)"
   ]
  },
  {
   "cell_type": "code",
   "execution_count": 37,
   "id": "90fcaf71",
   "metadata": {},
   "outputs": [
    {
     "data": {
      "text/html": [
       "<div>\n",
       "<style scoped>\n",
       "    .dataframe tbody tr th:only-of-type {\n",
       "        vertical-align: middle;\n",
       "    }\n",
       "\n",
       "    .dataframe tbody tr th {\n",
       "        vertical-align: top;\n",
       "    }\n",
       "\n",
       "    .dataframe thead th {\n",
       "        text-align: right;\n",
       "    }\n",
       "</style>\n",
       "<table border=\"1\" class=\"dataframe\">\n",
       "  <thead>\n",
       "    <tr style=\"text-align: right;\">\n",
       "      <th></th>\n",
       "      <th>item da planilha</th>\n",
       "      <th>etiqueta</th>\n",
       "      <th>date</th>\n",
       "      <th>serviceLink</th>\n",
       "      <th>comments</th>\n",
       "      <th>engagement</th>\n",
       "      <th>impressions</th>\n",
       "      <th>likes</th>\n",
       "      <th>reach</th>\n",
       "      <th>saves</th>\n",
       "      <th>...</th>\n",
       "      <th>Unnamed: 14</th>\n",
       "      <th>Unnamed: 15</th>\n",
       "      <th>Unnamed: 16</th>\n",
       "      <th>Unnamed: 17</th>\n",
       "      <th>Unnamed: 18</th>\n",
       "      <th>Unnamed: 19</th>\n",
       "      <th>Unnamed: 20</th>\n",
       "      <th>Unnamed: 21</th>\n",
       "      <th>Unnamed: 22</th>\n",
       "      <th>Unnamed: 23</th>\n",
       "    </tr>\n",
       "  </thead>\n",
       "  <tbody>\n",
       "    <tr>\n",
       "      <th>0</th>\n",
       "      <td>Campaña Defensa de Defensoras y Defensores</td>\n",
       "      <td>Sinergia Popular</td>\n",
       "      <td>08/26/2021 09:01:10</td>\n",
       "      <td>https://www.instagram.com/p/CTCW-LJrgRi/</td>\n",
       "      <td>4</td>\n",
       "      <td>40</td>\n",
       "      <td>193</td>\n",
       "      <td>36</td>\n",
       "      <td>174</td>\n",
       "      <td>0</td>\n",
       "      <td>...</td>\n",
       "      <td>NaN</td>\n",
       "      <td>NaN</td>\n",
       "      <td>NaN</td>\n",
       "      <td>NaN</td>\n",
       "      <td>NaN</td>\n",
       "      <td>NaN</td>\n",
       "      <td>NaN</td>\n",
       "      <td>NaN</td>\n",
       "      <td>NaN</td>\n",
       "      <td>NaN</td>\n",
       "    </tr>\n",
       "    <tr>\n",
       "      <th>1</th>\n",
       "      <td>Publicaciones de Aliades</td>\n",
       "      <td>Pueblos indígenas</td>\n",
       "      <td>08/25/2021 15:07:08</td>\n",
       "      <td>https://www.instagram.com/p/CTAcDs-pMI1/</td>\n",
       "      <td>0</td>\n",
       "      <td>28</td>\n",
       "      <td>160</td>\n",
       "      <td>27</td>\n",
       "      <td>126</td>\n",
       "      <td>1</td>\n",
       "      <td>...</td>\n",
       "      <td>NaN</td>\n",
       "      <td>NaN</td>\n",
       "      <td>NaN</td>\n",
       "      <td>NaN</td>\n",
       "      <td>NaN</td>\n",
       "      <td>NaN</td>\n",
       "      <td>NaN</td>\n",
       "      <td>NaN</td>\n",
       "      <td>NaN</td>\n",
       "      <td>NaN</td>\n",
       "    </tr>\n",
       "  </tbody>\n",
       "</table>\n",
       "<p>2 rows × 24 columns</p>\n",
       "</div>"
      ],
      "text/plain": [
       "                              item da planilha           etiqueta  \\\n",
       "0  Campaña Defensa de Defensoras y Defensores    Sinergia Popular   \n",
       "1                     Publicaciones de Aliades  Pueblos indígenas   \n",
       "\n",
       "                  date                               serviceLink  comments  \\\n",
       "0  08/26/2021 09:01:10  https://www.instagram.com/p/CTCW-LJrgRi/         4   \n",
       "1  08/25/2021 15:07:08  https://www.instagram.com/p/CTAcDs-pMI1/         0   \n",
       "\n",
       "   engagement  impressions  likes  reach  saves  ... Unnamed: 14 Unnamed: 15  \\\n",
       "0          40          193     36    174      0  ...         NaN         NaN   \n",
       "1          28          160     27    126      1  ...         NaN         NaN   \n",
       "\n",
       "  Unnamed: 16 Unnamed: 17 Unnamed: 18 Unnamed: 19 Unnamed: 20 Unnamed: 21  \\\n",
       "0         NaN         NaN         NaN         NaN         NaN         NaN   \n",
       "1         NaN         NaN         NaN         NaN         NaN         NaN   \n",
       "\n",
       "   Unnamed: 22  Unnamed: 23  \n",
       "0          NaN          NaN  \n",
       "1          NaN          NaN  \n",
       "\n",
       "[2 rows x 24 columns]"
      ]
     },
     "execution_count": 37,
     "metadata": {},
     "output_type": "execute_result"
    }
   ],
   "source": [
    "insta.head(2)"
   ]
  },
  {
   "cell_type": "markdown",
   "id": "9465cb25",
   "metadata": {},
   "source": [
    "👇🏼 Faço um recorte da planilha apenas com as colunas que me interessam."
   ]
  },
  {
   "cell_type": "code",
   "execution_count": 38,
   "id": "4b9a99b7",
   "metadata": {},
   "outputs": [],
   "source": [
    "insta_limpa = insta[['item da planilha','date', 'impressions', 'reach', 'engagement', 'etiqueta','serviceLink']]"
   ]
  },
  {
   "cell_type": "code",
   "execution_count": 39,
   "id": "916aaeba",
   "metadata": {},
   "outputs": [
    {
     "data": {
      "text/html": [
       "<div>\n",
       "<style scoped>\n",
       "    .dataframe tbody tr th:only-of-type {\n",
       "        vertical-align: middle;\n",
       "    }\n",
       "\n",
       "    .dataframe tbody tr th {\n",
       "        vertical-align: top;\n",
       "    }\n",
       "\n",
       "    .dataframe thead th {\n",
       "        text-align: right;\n",
       "    }\n",
       "</style>\n",
       "<table border=\"1\" class=\"dataframe\">\n",
       "  <thead>\n",
       "    <tr style=\"text-align: right;\">\n",
       "      <th></th>\n",
       "      <th>item da planilha</th>\n",
       "      <th>date</th>\n",
       "      <th>impressions</th>\n",
       "      <th>reach</th>\n",
       "      <th>engagement</th>\n",
       "      <th>etiqueta</th>\n",
       "      <th>serviceLink</th>\n",
       "    </tr>\n",
       "  </thead>\n",
       "  <tbody>\n",
       "    <tr>\n",
       "      <th>0</th>\n",
       "      <td>Campaña Defensa de Defensoras y Defensores</td>\n",
       "      <td>08/26/2021 09:01:10</td>\n",
       "      <td>193</td>\n",
       "      <td>174</td>\n",
       "      <td>40</td>\n",
       "      <td>Sinergia Popular</td>\n",
       "      <td>https://www.instagram.com/p/CTCW-LJrgRi/</td>\n",
       "    </tr>\n",
       "    <tr>\n",
       "      <th>1</th>\n",
       "      <td>Publicaciones de Aliades</td>\n",
       "      <td>08/25/2021 15:07:08</td>\n",
       "      <td>160</td>\n",
       "      <td>126</td>\n",
       "      <td>28</td>\n",
       "      <td>Pueblos indígenas</td>\n",
       "      <td>https://www.instagram.com/p/CTAcDs-pMI1/</td>\n",
       "    </tr>\n",
       "  </tbody>\n",
       "</table>\n",
       "</div>"
      ],
      "text/plain": [
       "                              item da planilha                 date  \\\n",
       "0  Campaña Defensa de Defensoras y Defensores   08/26/2021 09:01:10   \n",
       "1                     Publicaciones de Aliades  08/25/2021 15:07:08   \n",
       "\n",
       "   impressions  reach  engagement           etiqueta  \\\n",
       "0          193    174          40   Sinergia Popular   \n",
       "1          160    126          28  Pueblos indígenas   \n",
       "\n",
       "                                serviceLink  \n",
       "0  https://www.instagram.com/p/CTCW-LJrgRi/  \n",
       "1  https://www.instagram.com/p/CTAcDs-pMI1/  "
      ]
     },
     "execution_count": 39,
     "metadata": {},
     "output_type": "execute_result"
    }
   ],
   "source": [
    "insta_limpa.head(2)"
   ]
  },
  {
   "cell_type": "markdown",
   "id": "b158d3c2",
   "metadata": {},
   "source": [
    "👇🏼 Verifico se, após as modificações, a planilha continua com a mesma quantidade de linhas."
   ]
  },
  {
   "cell_type": "code",
   "execution_count": 40,
   "id": "e73d1b04",
   "metadata": {},
   "outputs": [
    {
     "data": {
      "text/plain": [
       "80"
      ]
     },
     "execution_count": 40,
     "metadata": {},
     "output_type": "execute_result"
    }
   ],
   "source": [
    "len(insta_limpa)"
   ]
  },
  {
   "cell_type": "markdown",
   "id": "8fac5f1d",
   "metadata": {},
   "source": [
    "# Base de dados do Twitter"
   ]
  },
  {
   "cell_type": "code",
   "execution_count": 41,
   "id": "b52a00aa",
   "metadata": {},
   "outputs": [
    {
     "data": {
      "text/html": [
       "<div>\n",
       "<style scoped>\n",
       "    .dataframe tbody tr th:only-of-type {\n",
       "        vertical-align: middle;\n",
       "    }\n",
       "\n",
       "    .dataframe tbody tr th {\n",
       "        vertical-align: top;\n",
       "    }\n",
       "\n",
       "    .dataframe thead th {\n",
       "        text-align: right;\n",
       "    }\n",
       "</style>\n",
       "<table border=\"1\" class=\"dataframe\">\n",
       "  <thead>\n",
       "    <tr style=\"text-align: right;\">\n",
       "      <th></th>\n",
       "      <th>Item da planilha</th>\n",
       "      <th>etiqueta</th>\n",
       "      <th>date</th>\n",
       "      <th>text</th>\n",
       "      <th>serviceLink</th>\n",
       "      <th>replies</th>\n",
       "      <th>engagements</th>\n",
       "      <th>engagement</th>\n",
       "      <th>engagement_rate</th>\n",
       "      <th>impressions</th>\n",
       "      <th>...</th>\n",
       "      <th>user_profile_clicks</th>\n",
       "      <th>type</th>\n",
       "      <th>Unnamed: 16</th>\n",
       "      <th>Unnamed: 17</th>\n",
       "      <th>Unnamed: 18</th>\n",
       "      <th>Unnamed: 19</th>\n",
       "      <th>Unnamed: 20</th>\n",
       "      <th>Unnamed: 21</th>\n",
       "      <th>Unnamed: 22</th>\n",
       "      <th>Unnamed: 23</th>\n",
       "    </tr>\n",
       "  </thead>\n",
       "  <tbody>\n",
       "    <tr>\n",
       "      <th>0</th>\n",
       "      <td>Ayudas a Terceros/ Fortalecimiento territorial</td>\n",
       "      <td>Apremara</td>\n",
       "      <td>2021-11-08 13:52:45</td>\n",
       "      <td>✊🏾 @MAB_Brasil e #APREMARA , com apoio do Jubi...</td>\n",
       "      <td>https://twitter.com/JubileuSul/status/14255004...</td>\n",
       "      <td>0</td>\n",
       "      <td>22</td>\n",
       "      <td>22</td>\n",
       "      <td>2021-09-01 00:00:00</td>\n",
       "      <td>1160</td>\n",
       "      <td>...</td>\n",
       "      <td>1</td>\n",
       "      <td>link</td>\n",
       "      <td>NaN</td>\n",
       "      <td>NaN</td>\n",
       "      <td>NaN</td>\n",
       "      <td>NaN</td>\n",
       "      <td>NaN</td>\n",
       "      <td>NaN</td>\n",
       "      <td>NaN</td>\n",
       "      <td>NaN</td>\n",
       "    </tr>\n",
       "    <tr>\n",
       "      <th>1</th>\n",
       "      <td>Ayudas a Terceros/ Fortalecimiento territorial</td>\n",
       "      <td>Grito de las Excluidas y de los Excluidos</td>\n",
       "      <td>08/30/2021 20:00:01</td>\n",
       "      <td>GRITO 2021 | O 27º Grito dos Excluídos e Exclu...</td>\n",
       "      <td>https://twitter.com/JubileuSul/status/14324782...</td>\n",
       "      <td>0</td>\n",
       "      <td>23</td>\n",
       "      <td>23</td>\n",
       "      <td>2021-02-03 00:00:00</td>\n",
       "      <td>729</td>\n",
       "      <td>...</td>\n",
       "      <td>3</td>\n",
       "      <td>link</td>\n",
       "      <td>NaN</td>\n",
       "      <td>NaN</td>\n",
       "      <td>NaN</td>\n",
       "      <td>NaN</td>\n",
       "      <td>NaN</td>\n",
       "      <td>NaN</td>\n",
       "      <td>NaN</td>\n",
       "      <td>NaN</td>\n",
       "    </tr>\n",
       "  </tbody>\n",
       "</table>\n",
       "<p>2 rows × 24 columns</p>\n",
       "</div>"
      ],
      "text/plain": [
       "                                 Item da planilha  \\\n",
       "0  Ayudas a Terceros/ Fortalecimiento territorial   \n",
       "1  Ayudas a Terceros/ Fortalecimiento territorial   \n",
       "\n",
       "                                    etiqueta                 date  \\\n",
       "0                                   Apremara  2021-11-08 13:52:45   \n",
       "1  Grito de las Excluidas y de los Excluidos  08/30/2021 20:00:01   \n",
       "\n",
       "                                                text  \\\n",
       "0  ✊🏾 @MAB_Brasil e #APREMARA , com apoio do Jubi...   \n",
       "1  GRITO 2021 | O 27º Grito dos Excluídos e Exclu...   \n",
       "\n",
       "                                         serviceLink  replies  engagements  \\\n",
       "0  https://twitter.com/JubileuSul/status/14255004...        0           22   \n",
       "1  https://twitter.com/JubileuSul/status/14324782...        0           23   \n",
       "\n",
       "   engagement      engagement_rate  impressions  ...  user_profile_clicks  \\\n",
       "0          22  2021-09-01 00:00:00         1160  ...                    1   \n",
       "1          23  2021-02-03 00:00:00          729  ...                    3   \n",
       "\n",
       "   type  Unnamed: 16  Unnamed: 17  Unnamed: 18 Unnamed: 19 Unnamed: 20  \\\n",
       "0  link          NaN          NaN          NaN         NaN         NaN   \n",
       "1  link          NaN          NaN          NaN         NaN         NaN   \n",
       "\n",
       "   Unnamed: 21  Unnamed: 22  Unnamed: 23  \n",
       "0          NaN          NaN          NaN  \n",
       "1          NaN          NaN          NaN  \n",
       "\n",
       "[2 rows x 24 columns]"
      ]
     },
     "execution_count": 41,
     "metadata": {},
     "output_type": "execute_result"
    }
   ],
   "source": [
    "twitter.head(2)"
   ]
  },
  {
   "cell_type": "code",
   "execution_count": 42,
   "id": "73b262b8",
   "metadata": {},
   "outputs": [
    {
     "data": {
      "text/plain": [
       "Index(['Item da planilha', 'etiqueta', 'date', 'text', 'serviceLink',\n",
       "       'replies', 'engagements', 'engagement', 'engagement_rate',\n",
       "       'impressions', 'favorites', 'retweets', 'url_clicks', 'quotes',\n",
       "       'user_profile_clicks', 'type', 'Unnamed: 16', 'Unnamed: 17',\n",
       "       'Unnamed: 18', 'Unnamed: 19', 'Unnamed: 20', 'Unnamed: 21',\n",
       "       'Unnamed: 22', 'Unnamed: 23'],\n",
       "      dtype='object')"
      ]
     },
     "execution_count": 42,
     "metadata": {},
     "output_type": "execute_result"
    }
   ],
   "source": [
    "twitter.columns"
   ]
  },
  {
   "cell_type": "markdown",
   "id": "846848c5",
   "metadata": {},
   "source": [
    "👇🏼 Padronizo os nomes das colunas que foram criadas para classificar e etiquetar as postagens. A grafia delas destoa de mês para mês."
   ]
  },
  {
   "cell_type": "code",
   "execution_count": 43,
   "id": "db6bae3d",
   "metadata": {},
   "outputs": [],
   "source": [
    "twitter.rename(columns={twitter.columns[0]:'item da planilha', twitter.columns[1]:'etiqueta' }, inplace=True)"
   ]
  },
  {
   "cell_type": "code",
   "execution_count": 44,
   "id": "ef9acef5",
   "metadata": {},
   "outputs": [
    {
     "data": {
      "text/html": [
       "<div>\n",
       "<style scoped>\n",
       "    .dataframe tbody tr th:only-of-type {\n",
       "        vertical-align: middle;\n",
       "    }\n",
       "\n",
       "    .dataframe tbody tr th {\n",
       "        vertical-align: top;\n",
       "    }\n",
       "\n",
       "    .dataframe thead th {\n",
       "        text-align: right;\n",
       "    }\n",
       "</style>\n",
       "<table border=\"1\" class=\"dataframe\">\n",
       "  <thead>\n",
       "    <tr style=\"text-align: right;\">\n",
       "      <th></th>\n",
       "      <th>item da planilha</th>\n",
       "      <th>etiqueta</th>\n",
       "      <th>date</th>\n",
       "      <th>text</th>\n",
       "      <th>serviceLink</th>\n",
       "      <th>replies</th>\n",
       "      <th>engagements</th>\n",
       "      <th>engagement</th>\n",
       "      <th>engagement_rate</th>\n",
       "      <th>impressions</th>\n",
       "      <th>...</th>\n",
       "      <th>user_profile_clicks</th>\n",
       "      <th>type</th>\n",
       "      <th>Unnamed: 16</th>\n",
       "      <th>Unnamed: 17</th>\n",
       "      <th>Unnamed: 18</th>\n",
       "      <th>Unnamed: 19</th>\n",
       "      <th>Unnamed: 20</th>\n",
       "      <th>Unnamed: 21</th>\n",
       "      <th>Unnamed: 22</th>\n",
       "      <th>Unnamed: 23</th>\n",
       "    </tr>\n",
       "  </thead>\n",
       "  <tbody>\n",
       "    <tr>\n",
       "      <th>0</th>\n",
       "      <td>Ayudas a Terceros/ Fortalecimiento territorial</td>\n",
       "      <td>Apremara</td>\n",
       "      <td>2021-11-08 13:52:45</td>\n",
       "      <td>✊🏾 @MAB_Brasil e #APREMARA , com apoio do Jubi...</td>\n",
       "      <td>https://twitter.com/JubileuSul/status/14255004...</td>\n",
       "      <td>0</td>\n",
       "      <td>22</td>\n",
       "      <td>22</td>\n",
       "      <td>2021-09-01 00:00:00</td>\n",
       "      <td>1160</td>\n",
       "      <td>...</td>\n",
       "      <td>1</td>\n",
       "      <td>link</td>\n",
       "      <td>NaN</td>\n",
       "      <td>NaN</td>\n",
       "      <td>NaN</td>\n",
       "      <td>NaN</td>\n",
       "      <td>NaN</td>\n",
       "      <td>NaN</td>\n",
       "      <td>NaN</td>\n",
       "      <td>NaN</td>\n",
       "    </tr>\n",
       "    <tr>\n",
       "      <th>1</th>\n",
       "      <td>Ayudas a Terceros/ Fortalecimiento territorial</td>\n",
       "      <td>Grito de las Excluidas y de los Excluidos</td>\n",
       "      <td>08/30/2021 20:00:01</td>\n",
       "      <td>GRITO 2021 | O 27º Grito dos Excluídos e Exclu...</td>\n",
       "      <td>https://twitter.com/JubileuSul/status/14324782...</td>\n",
       "      <td>0</td>\n",
       "      <td>23</td>\n",
       "      <td>23</td>\n",
       "      <td>2021-02-03 00:00:00</td>\n",
       "      <td>729</td>\n",
       "      <td>...</td>\n",
       "      <td>3</td>\n",
       "      <td>link</td>\n",
       "      <td>NaN</td>\n",
       "      <td>NaN</td>\n",
       "      <td>NaN</td>\n",
       "      <td>NaN</td>\n",
       "      <td>NaN</td>\n",
       "      <td>NaN</td>\n",
       "      <td>NaN</td>\n",
       "      <td>NaN</td>\n",
       "    </tr>\n",
       "  </tbody>\n",
       "</table>\n",
       "<p>2 rows × 24 columns</p>\n",
       "</div>"
      ],
      "text/plain": [
       "                                 item da planilha  \\\n",
       "0  Ayudas a Terceros/ Fortalecimiento territorial   \n",
       "1  Ayudas a Terceros/ Fortalecimiento territorial   \n",
       "\n",
       "                                    etiqueta                 date  \\\n",
       "0                                   Apremara  2021-11-08 13:52:45   \n",
       "1  Grito de las Excluidas y de los Excluidos  08/30/2021 20:00:01   \n",
       "\n",
       "                                                text  \\\n",
       "0  ✊🏾 @MAB_Brasil e #APREMARA , com apoio do Jubi...   \n",
       "1  GRITO 2021 | O 27º Grito dos Excluídos e Exclu...   \n",
       "\n",
       "                                         serviceLink  replies  engagements  \\\n",
       "0  https://twitter.com/JubileuSul/status/14255004...        0           22   \n",
       "1  https://twitter.com/JubileuSul/status/14324782...        0           23   \n",
       "\n",
       "   engagement      engagement_rate  impressions  ...  user_profile_clicks  \\\n",
       "0          22  2021-09-01 00:00:00         1160  ...                    1   \n",
       "1          23  2021-02-03 00:00:00          729  ...                    3   \n",
       "\n",
       "   type  Unnamed: 16  Unnamed: 17  Unnamed: 18 Unnamed: 19 Unnamed: 20  \\\n",
       "0  link          NaN          NaN          NaN         NaN         NaN   \n",
       "1  link          NaN          NaN          NaN         NaN         NaN   \n",
       "\n",
       "   Unnamed: 21  Unnamed: 22  Unnamed: 23  \n",
       "0          NaN          NaN          NaN  \n",
       "1          NaN          NaN          NaN  \n",
       "\n",
       "[2 rows x 24 columns]"
      ]
     },
     "execution_count": 44,
     "metadata": {},
     "output_type": "execute_result"
    }
   ],
   "source": [
    "twitter.head(2)"
   ]
  },
  {
   "cell_type": "markdown",
   "id": "c7921f88",
   "metadata": {},
   "source": [
    "👇🏼 Extraio manualmente a informação da quantidade de seguidores/as/ies da Buffer. A plataforma tinha uma API disponível para clientes, mas há uns anos essa funcionalidade foi extinta. Uma alternativa seria conseguir esse dado via API do Twitter, no entanto ainda não tive meu cadastro como desenvolvedora aprovado."
   ]
  },
  {
   "cell_type": "markdown",
   "id": "02f9c10f",
   "metadata": {},
   "source": [
    "Total de segudiores (Fonte: Buffer).\n",
    "\n",
    "Agosto 2021: 466\n",
    "\n",
    "Setembro 2021: 476\n",
    "\n",
    "Outubro 2021: 483\n"
   ]
  },
  {
   "cell_type": "markdown",
   "id": "68b2c4ea",
   "metadata": {},
   "source": [
    "👇🏼 Faço um cálculo criado dentro da organização para estimar o Alcance de cada postagem."
   ]
  },
  {
   "cell_type": "code",
   "execution_count": 45,
   "id": "f77c7e22",
   "metadata": {},
   "outputs": [],
   "source": [
    "twitter[\"reach\"] = ((twitter[\"engagements\"] * 466) / 100).apply(np.ceil)"
   ]
  },
  {
   "cell_type": "code",
   "execution_count": 46,
   "id": "93b8bb45",
   "metadata": {},
   "outputs": [
    {
     "data": {
      "text/html": [
       "<div>\n",
       "<style scoped>\n",
       "    .dataframe tbody tr th:only-of-type {\n",
       "        vertical-align: middle;\n",
       "    }\n",
       "\n",
       "    .dataframe tbody tr th {\n",
       "        vertical-align: top;\n",
       "    }\n",
       "\n",
       "    .dataframe thead th {\n",
       "        text-align: right;\n",
       "    }\n",
       "</style>\n",
       "<table border=\"1\" class=\"dataframe\">\n",
       "  <thead>\n",
       "    <tr style=\"text-align: right;\">\n",
       "      <th></th>\n",
       "      <th>item da planilha</th>\n",
       "      <th>etiqueta</th>\n",
       "      <th>date</th>\n",
       "      <th>text</th>\n",
       "      <th>serviceLink</th>\n",
       "      <th>replies</th>\n",
       "      <th>engagements</th>\n",
       "      <th>engagement</th>\n",
       "      <th>engagement_rate</th>\n",
       "      <th>impressions</th>\n",
       "      <th>...</th>\n",
       "      <th>type</th>\n",
       "      <th>Unnamed: 16</th>\n",
       "      <th>Unnamed: 17</th>\n",
       "      <th>Unnamed: 18</th>\n",
       "      <th>Unnamed: 19</th>\n",
       "      <th>Unnamed: 20</th>\n",
       "      <th>Unnamed: 21</th>\n",
       "      <th>Unnamed: 22</th>\n",
       "      <th>Unnamed: 23</th>\n",
       "      <th>reach</th>\n",
       "    </tr>\n",
       "  </thead>\n",
       "  <tbody>\n",
       "    <tr>\n",
       "      <th>0</th>\n",
       "      <td>Ayudas a Terceros/ Fortalecimiento territorial</td>\n",
       "      <td>Apremara</td>\n",
       "      <td>2021-11-08 13:52:45</td>\n",
       "      <td>✊🏾 @MAB_Brasil e #APREMARA , com apoio do Jubi...</td>\n",
       "      <td>https://twitter.com/JubileuSul/status/14255004...</td>\n",
       "      <td>0</td>\n",
       "      <td>22</td>\n",
       "      <td>22</td>\n",
       "      <td>2021-09-01 00:00:00</td>\n",
       "      <td>1160</td>\n",
       "      <td>...</td>\n",
       "      <td>link</td>\n",
       "      <td>NaN</td>\n",
       "      <td>NaN</td>\n",
       "      <td>NaN</td>\n",
       "      <td>NaN</td>\n",
       "      <td>NaN</td>\n",
       "      <td>NaN</td>\n",
       "      <td>NaN</td>\n",
       "      <td>NaN</td>\n",
       "      <td>103.0</td>\n",
       "    </tr>\n",
       "    <tr>\n",
       "      <th>1</th>\n",
       "      <td>Ayudas a Terceros/ Fortalecimiento territorial</td>\n",
       "      <td>Grito de las Excluidas y de los Excluidos</td>\n",
       "      <td>08/30/2021 20:00:01</td>\n",
       "      <td>GRITO 2021 | O 27º Grito dos Excluídos e Exclu...</td>\n",
       "      <td>https://twitter.com/JubileuSul/status/14324782...</td>\n",
       "      <td>0</td>\n",
       "      <td>23</td>\n",
       "      <td>23</td>\n",
       "      <td>2021-02-03 00:00:00</td>\n",
       "      <td>729</td>\n",
       "      <td>...</td>\n",
       "      <td>link</td>\n",
       "      <td>NaN</td>\n",
       "      <td>NaN</td>\n",
       "      <td>NaN</td>\n",
       "      <td>NaN</td>\n",
       "      <td>NaN</td>\n",
       "      <td>NaN</td>\n",
       "      <td>NaN</td>\n",
       "      <td>NaN</td>\n",
       "      <td>108.0</td>\n",
       "    </tr>\n",
       "  </tbody>\n",
       "</table>\n",
       "<p>2 rows × 25 columns</p>\n",
       "</div>"
      ],
      "text/plain": [
       "                                 item da planilha  \\\n",
       "0  Ayudas a Terceros/ Fortalecimiento territorial   \n",
       "1  Ayudas a Terceros/ Fortalecimiento territorial   \n",
       "\n",
       "                                    etiqueta                 date  \\\n",
       "0                                   Apremara  2021-11-08 13:52:45   \n",
       "1  Grito de las Excluidas y de los Excluidos  08/30/2021 20:00:01   \n",
       "\n",
       "                                                text  \\\n",
       "0  ✊🏾 @MAB_Brasil e #APREMARA , com apoio do Jubi...   \n",
       "1  GRITO 2021 | O 27º Grito dos Excluídos e Exclu...   \n",
       "\n",
       "                                         serviceLink  replies  engagements  \\\n",
       "0  https://twitter.com/JubileuSul/status/14255004...        0           22   \n",
       "1  https://twitter.com/JubileuSul/status/14324782...        0           23   \n",
       "\n",
       "   engagement      engagement_rate  impressions  ...  type  Unnamed: 16  \\\n",
       "0          22  2021-09-01 00:00:00         1160  ...  link          NaN   \n",
       "1          23  2021-02-03 00:00:00          729  ...  link          NaN   \n",
       "\n",
       "   Unnamed: 17  Unnamed: 18  Unnamed: 19 Unnamed: 20 Unnamed: 21  Unnamed: 22  \\\n",
       "0          NaN          NaN          NaN         NaN         NaN          NaN   \n",
       "1          NaN          NaN          NaN         NaN         NaN          NaN   \n",
       "\n",
       "   Unnamed: 23  reach  \n",
       "0          NaN  103.0  \n",
       "1          NaN  108.0  \n",
       "\n",
       "[2 rows x 25 columns]"
      ]
     },
     "execution_count": 46,
     "metadata": {},
     "output_type": "execute_result"
    }
   ],
   "source": [
    "twitter.head(2)"
   ]
  },
  {
   "cell_type": "markdown",
   "id": "c31442a4",
   "metadata": {},
   "source": [
    "👇🏼 Faço um recorte da planilha apenas com as colunas que me interessam."
   ]
  },
  {
   "cell_type": "code",
   "execution_count": 47,
   "id": "17972fa4",
   "metadata": {},
   "outputs": [],
   "source": [
    "twitter_limpa = twitter[['item da planilha','date', 'impressions', 'reach','engagement', 'etiqueta','serviceLink']]"
   ]
  },
  {
   "cell_type": "code",
   "execution_count": 48,
   "id": "2b52cb7c",
   "metadata": {},
   "outputs": [
    {
     "data": {
      "text/html": [
       "<div>\n",
       "<style scoped>\n",
       "    .dataframe tbody tr th:only-of-type {\n",
       "        vertical-align: middle;\n",
       "    }\n",
       "\n",
       "    .dataframe tbody tr th {\n",
       "        vertical-align: top;\n",
       "    }\n",
       "\n",
       "    .dataframe thead th {\n",
       "        text-align: right;\n",
       "    }\n",
       "</style>\n",
       "<table border=\"1\" class=\"dataframe\">\n",
       "  <thead>\n",
       "    <tr style=\"text-align: right;\">\n",
       "      <th></th>\n",
       "      <th>item da planilha</th>\n",
       "      <th>date</th>\n",
       "      <th>impressions</th>\n",
       "      <th>reach</th>\n",
       "      <th>engagement</th>\n",
       "      <th>etiqueta</th>\n",
       "      <th>serviceLink</th>\n",
       "    </tr>\n",
       "  </thead>\n",
       "  <tbody>\n",
       "    <tr>\n",
       "      <th>0</th>\n",
       "      <td>Ayudas a Terceros/ Fortalecimiento territorial</td>\n",
       "      <td>2021-11-08 13:52:45</td>\n",
       "      <td>1160</td>\n",
       "      <td>103.0</td>\n",
       "      <td>22</td>\n",
       "      <td>Apremara</td>\n",
       "      <td>https://twitter.com/JubileuSul/status/14255004...</td>\n",
       "    </tr>\n",
       "    <tr>\n",
       "      <th>1</th>\n",
       "      <td>Ayudas a Terceros/ Fortalecimiento territorial</td>\n",
       "      <td>08/30/2021 20:00:01</td>\n",
       "      <td>729</td>\n",
       "      <td>108.0</td>\n",
       "      <td>23</td>\n",
       "      <td>Grito de las Excluidas y de los Excluidos</td>\n",
       "      <td>https://twitter.com/JubileuSul/status/14324782...</td>\n",
       "    </tr>\n",
       "  </tbody>\n",
       "</table>\n",
       "</div>"
      ],
      "text/plain": [
       "                                 item da planilha                 date  \\\n",
       "0  Ayudas a Terceros/ Fortalecimiento territorial  2021-11-08 13:52:45   \n",
       "1  Ayudas a Terceros/ Fortalecimiento territorial  08/30/2021 20:00:01   \n",
       "\n",
       "   impressions  reach  engagement                                   etiqueta  \\\n",
       "0         1160  103.0          22                                   Apremara   \n",
       "1          729  108.0          23  Grito de las Excluidas y de los Excluidos   \n",
       "\n",
       "                                         serviceLink  \n",
       "0  https://twitter.com/JubileuSul/status/14255004...  \n",
       "1  https://twitter.com/JubileuSul/status/14324782...  "
      ]
     },
     "execution_count": 48,
     "metadata": {},
     "output_type": "execute_result"
    }
   ],
   "source": [
    "twitter_limpa.head(2)"
   ]
  },
  {
   "cell_type": "markdown",
   "id": "8054f83c",
   "metadata": {},
   "source": [
    "👇🏼 Verifico se, após as modificações, a planilha continua com a mesma quantidade de linhas."
   ]
  },
  {
   "cell_type": "code",
   "execution_count": 49,
   "id": "a5d39012",
   "metadata": {},
   "outputs": [
    {
     "data": {
      "text/plain": [
       "82"
      ]
     },
     "execution_count": 49,
     "metadata": {},
     "output_type": "execute_result"
    }
   ],
   "source": [
    "len(twitter_limpa)"
   ]
  },
  {
   "cell_type": "markdown",
   "id": "a8595072",
   "metadata": {},
   "source": [
    "# Criação da Planilha Matriz  "
   ]
  },
  {
   "cell_type": "code",
   "execution_count": 50,
   "id": "f5ae19d1",
   "metadata": {},
   "outputs": [],
   "source": [
    "merge1 = face_limpa.append(insta_limpa)"
   ]
  },
  {
   "cell_type": "code",
   "execution_count": 51,
   "id": "1ee89a68",
   "metadata": {},
   "outputs": [],
   "source": [
    "planilha_matriz = merge1.append(twitter_limpa)"
   ]
  },
  {
   "cell_type": "code",
   "execution_count": 52,
   "id": "2601024b",
   "metadata": {},
   "outputs": [
    {
     "data": {
      "text/html": [
       "<div>\n",
       "<style scoped>\n",
       "    .dataframe tbody tr th:only-of-type {\n",
       "        vertical-align: middle;\n",
       "    }\n",
       "\n",
       "    .dataframe tbody tr th {\n",
       "        vertical-align: top;\n",
       "    }\n",
       "\n",
       "    .dataframe thead th {\n",
       "        text-align: right;\n",
       "    }\n",
       "</style>\n",
       "<table border=\"1\" class=\"dataframe\">\n",
       "  <thead>\n",
       "    <tr style=\"text-align: right;\">\n",
       "      <th></th>\n",
       "      <th>item da planilha</th>\n",
       "      <th>date</th>\n",
       "      <th>impressions</th>\n",
       "      <th>reach</th>\n",
       "      <th>engagement</th>\n",
       "      <th>etiqueta</th>\n",
       "      <th>serviceLink</th>\n",
       "    </tr>\n",
       "  </thead>\n",
       "  <tbody>\n",
       "    <tr>\n",
       "      <th>0</th>\n",
       "      <td>Publicaciones de Aliades</td>\n",
       "      <td>2021-03-08 08:19:21</td>\n",
       "      <td>73</td>\n",
       "      <td>62.0</td>\n",
       "      <td>6</td>\n",
       "      <td>Publicaciones de Aliades</td>\n",
       "      <td>https://facebook.com/345687158828714/posts/437...</td>\n",
       "    </tr>\n",
       "    <tr>\n",
       "      <th>1</th>\n",
       "      <td>Campaña Defensa de Defensoras y Defensores</td>\n",
       "      <td>2021-04-08 09:00:42</td>\n",
       "      <td>41</td>\n",
       "      <td>34.0</td>\n",
       "      <td>5</td>\n",
       "      <td>Sinergia Popular</td>\n",
       "      <td>https://facebook.com/345687158828714/posts/437...</td>\n",
       "    </tr>\n",
       "    <tr>\n",
       "      <th>2</th>\n",
       "      <td>Publicaciones de Aliades</td>\n",
       "      <td>2021-04-08 13:33:52</td>\n",
       "      <td>58</td>\n",
       "      <td>49.0</td>\n",
       "      <td>6</td>\n",
       "      <td>Publicaciones de Aliades</td>\n",
       "      <td>https://facebook.com/345687158828714/posts/437...</td>\n",
       "    </tr>\n",
       "  </tbody>\n",
       "</table>\n",
       "</div>"
      ],
      "text/plain": [
       "                              item da planilha                 date  \\\n",
       "0                     Publicaciones de Aliades  2021-03-08 08:19:21   \n",
       "1  Campaña Defensa de Defensoras y Defensores   2021-04-08 09:00:42   \n",
       "2                     Publicaciones de Aliades  2021-04-08 13:33:52   \n",
       "\n",
       "   impressions  reach  engagement                  etiqueta  \\\n",
       "0           73   62.0           6  Publicaciones de Aliades   \n",
       "1           41   34.0           5          Sinergia Popular   \n",
       "2           58   49.0           6  Publicaciones de Aliades   \n",
       "\n",
       "                                         serviceLink  \n",
       "0  https://facebook.com/345687158828714/posts/437...  \n",
       "1  https://facebook.com/345687158828714/posts/437...  \n",
       "2  https://facebook.com/345687158828714/posts/437...  "
      ]
     },
     "execution_count": 52,
     "metadata": {},
     "output_type": "execute_result"
    }
   ],
   "source": [
    "planilha_matriz.head(3)"
   ]
  },
  {
   "cell_type": "markdown",
   "id": "35a9624b",
   "metadata": {},
   "source": [
    "👇🏼 Transformo os valores da variável Data em string para não haver erro na etapa de escrever as observações no Google spreadsheet."
   ]
  },
  {
   "cell_type": "code",
   "execution_count": 53,
   "id": "d005f075",
   "metadata": {},
   "outputs": [],
   "source": [
    "planilha_matriz['date'] = planilha_matriz['date'].astype(str)"
   ]
  },
  {
   "cell_type": "markdown",
   "id": "9887616e",
   "metadata": {},
   "source": [
    "👇🏼 Verifico se a quantidade de linhas da planilha_matriz é a mesma da variável total_linhas, criada no início do código."
   ]
  },
  {
   "cell_type": "code",
   "execution_count": 54,
   "id": "73480d81",
   "metadata": {},
   "outputs": [
    {
     "data": {
      "text/plain": [
       "231"
      ]
     },
     "execution_count": 54,
     "metadata": {},
     "output_type": "execute_result"
    }
   ],
   "source": [
    "len(planilha_matriz)"
   ]
  },
  {
   "cell_type": "markdown",
   "id": "de4baa19",
   "metadata": {},
   "source": [
    "👇🏼 Retiro espaços em branco no início e no fim de cada valor da variável 'item da planilha'. Em etapas pregressas do desenvolvimento do código esse foi um aspecto que ocasionou erros no momento de gerar as subplanilhas."
   ]
  },
  {
   "cell_type": "code",
   "execution_count": 55,
   "id": "0134f63e",
   "metadata": {},
   "outputs": [],
   "source": [
    "planilha_matriz['item da planilha'] = planilha_matriz['item da planilha'].str.strip()"
   ]
  },
  {
   "cell_type": "markdown",
   "id": "88315988",
   "metadata": {},
   "source": [
    "👇🏼 Verifico se há valores em branco na planilha. Eles acarretam erros no momento de gerar as subplanilhas. "
   ]
  },
  {
   "cell_type": "code",
   "execution_count": 56,
   "id": "593b590e",
   "metadata": {},
   "outputs": [
    {
     "data": {
      "text/plain": [
       "item da planilha    0\n",
       "date                0\n",
       "impressions         0\n",
       "reach               0\n",
       "engagement          0\n",
       "etiqueta            0\n",
       "serviceLink         0\n",
       "dtype: int64"
      ]
     },
     "execution_count": 56,
     "metadata": {},
     "output_type": "execute_result"
    }
   ],
   "source": [
    "planilha_matriz.isnull().sum()"
   ]
  },
  {
   "cell_type": "markdown",
   "id": "d5e25173",
   "metadata": {},
   "source": [
    "👇🏼 Caso haja valores em branco, peço para que sejam prenchidos com a string \"CHECAR\""
   ]
  },
  {
   "cell_type": "code",
   "execution_count": 57,
   "id": "24c117f8",
   "metadata": {},
   "outputs": [],
   "source": [
    "planilha_matriz = planilha_matriz.fillna(\"CHECAR\")"
   ]
  },
  {
   "cell_type": "code",
   "execution_count": 58,
   "id": "04c2b80c",
   "metadata": {},
   "outputs": [
    {
     "data": {
      "text/plain": [
       "array(['Publicaciones de Aliades',\n",
       "       'Campaña Defensa de Defensoras y Defensores', 'Notas/Comunicados',\n",
       "       'Ayudas a Terceros/ Fortalecimiento territorial',\n",
       "       'Campaña Justicia Socio ecológica',\n",
       "       'Inserciones mensuales de la Red JSB en medios de comunicación de nivel nacional o regional',\n",
       "       'Protagonismo', 'Estudios,  Boletines, Investigaciones'],\n",
       "      dtype=object)"
      ]
     },
     "execution_count": 58,
     "metadata": {},
     "output_type": "execute_result"
    }
   ],
   "source": [
    "planilha_matriz['item da planilha'].unique()"
   ]
  },
  {
   "cell_type": "markdown",
   "id": "ff2615ec",
   "metadata": {},
   "source": [
    "👇🏼 Renomeio cada um dos itens da coluna \"item da planilha\", seguindo a seguinte padronização:\n",
    "\n",
    "\n",
    "🏷 **Etiquetas-padrão:**\n",
    "\n",
    "'campaña_defesa',\n",
    "'vida_antes_deuda',\n",
    "'protagonismo',\n",
    "'justicia_socioecologica',\n",
    "'megaproyectos',\n",
    "'militarizacion',\n",
    "'notas_comunicados',\n",
    "'estudios',\n",
    "'eventos',\n",
    "'publicaciones_aliade',\n",
    "'ayudas_terceros',\n",
    "'inserciones'"
   ]
  },
  {
   "cell_type": "code",
   "execution_count": 59,
   "id": "1839767f",
   "metadata": {},
   "outputs": [],
   "source": [
    "planilha_matriz['item da planilha'] = planilha_matriz['item da planilha'].replace(\n",
    "    ['Publicaciones de Aliades',\n",
    "     'Campaña Defensa de Defensoras y Defensores',\n",
    "     'Notas/Comunicados',\n",
    "     'Ayudas a Terceros/ Fortalecimiento territorial',\n",
    "     'Campaña Justicia Socio ecológica',\n",
    "     'Inserciones mensuales de la Red JSB en medios de comunicación de nivel nacional o regional',\n",
    "     'Protagonismo',\n",
    "     'Estudios,  Boletines, Investigaciones'\n",
    "     ],\n",
    "    ['publicaciones_aliade',\n",
    "     'campaña_defesa',\n",
    "     'notas_comunicados',\n",
    "     'ayudas_terceros',\n",
    "     'justicia_socioecologica',\n",
    "     'inserciones',\n",
    "     'protagonismo',\n",
    "     'estudios'\n",
    "    ])"
   ]
  },
  {
   "cell_type": "code",
   "execution_count": 60,
   "id": "74cd751b",
   "metadata": {},
   "outputs": [
    {
     "data": {
      "text/plain": [
       "array(['publicaciones_aliade', 'campaña_defesa', 'notas_comunicados',\n",
       "       'ayudas_terceros', 'justicia_socioecologica', 'inserciones',\n",
       "       'protagonismo', 'estudios'], dtype=object)"
      ]
     },
     "execution_count": 60,
     "metadata": {},
     "output_type": "execute_result"
    }
   ],
   "source": [
    "planilha_matriz['item da planilha'].unique()"
   ]
  },
  {
   "cell_type": "markdown",
   "id": "ae345685",
   "metadata": {},
   "source": [
    "👇🏼Verifico se a quantidade de linhas da planilha_matriz é a mesma da variável total_linhas, criada no início do código.\n"
   ]
  },
  {
   "cell_type": "code",
   "execution_count": 61,
   "id": "f10577f1",
   "metadata": {},
   "outputs": [
    {
     "data": {
      "text/plain": [
       "231"
      ]
     },
     "execution_count": 61,
     "metadata": {},
     "output_type": "execute_result"
    }
   ],
   "source": [
    "len(planilha_matriz)"
   ]
  },
  {
   "cell_type": "markdown",
   "id": "ed34b2d5",
   "metadata": {},
   "source": [
    "👇🏼 Crio duas novas planilhas, seguindo assim uma diretriz interna da organização. A diferença entre elas é que a *planilha_matriz_fortalecimento* não possui as observações classificadas como *protagonismo*. A *planilha_matriz_protagonismo* é formada apenas pelas observações classificadas como *protagonismo*. No próximo notebook, para criar as sub-planilhas será utilizado o arquivo *planilha_matriz_fortalecimento*.  "
   ]
  },
  {
   "cell_type": "code",
   "execution_count": 62,
   "id": "20931794",
   "metadata": {},
   "outputs": [],
   "source": [
    "planilha_matriz_fortalecimento = planilha_matriz[planilha_matriz['item da planilha']!='protagonismo']"
   ]
  },
  {
   "cell_type": "code",
   "execution_count": 63,
   "id": "96a4c09c",
   "metadata": {},
   "outputs": [
    {
     "data": {
      "text/html": [
       "<div>\n",
       "<style scoped>\n",
       "    .dataframe tbody tr th:only-of-type {\n",
       "        vertical-align: middle;\n",
       "    }\n",
       "\n",
       "    .dataframe tbody tr th {\n",
       "        vertical-align: top;\n",
       "    }\n",
       "\n",
       "    .dataframe thead th {\n",
       "        text-align: right;\n",
       "    }\n",
       "</style>\n",
       "<table border=\"1\" class=\"dataframe\">\n",
       "  <thead>\n",
       "    <tr style=\"text-align: right;\">\n",
       "      <th></th>\n",
       "      <th>item da planilha</th>\n",
       "      <th>date</th>\n",
       "      <th>impressions</th>\n",
       "      <th>reach</th>\n",
       "      <th>engagement</th>\n",
       "      <th>etiqueta</th>\n",
       "      <th>serviceLink</th>\n",
       "    </tr>\n",
       "  </thead>\n",
       "  <tbody>\n",
       "    <tr>\n",
       "      <th>0</th>\n",
       "      <td>publicaciones_aliade</td>\n",
       "      <td>2021-03-08 08:19:21</td>\n",
       "      <td>73</td>\n",
       "      <td>62.0</td>\n",
       "      <td>6</td>\n",
       "      <td>Publicaciones de Aliades</td>\n",
       "      <td>https://facebook.com/345687158828714/posts/437...</td>\n",
       "    </tr>\n",
       "    <tr>\n",
       "      <th>1</th>\n",
       "      <td>campaña_defesa</td>\n",
       "      <td>2021-04-08 09:00:42</td>\n",
       "      <td>41</td>\n",
       "      <td>34.0</td>\n",
       "      <td>5</td>\n",
       "      <td>Sinergia Popular</td>\n",
       "      <td>https://facebook.com/345687158828714/posts/437...</td>\n",
       "    </tr>\n",
       "  </tbody>\n",
       "</table>\n",
       "</div>"
      ],
      "text/plain": [
       "       item da planilha                 date  impressions  reach  engagement  \\\n",
       "0  publicaciones_aliade  2021-03-08 08:19:21           73   62.0           6   \n",
       "1        campaña_defesa  2021-04-08 09:00:42           41   34.0           5   \n",
       "\n",
       "                   etiqueta                                        serviceLink  \n",
       "0  Publicaciones de Aliades  https://facebook.com/345687158828714/posts/437...  \n",
       "1          Sinergia Popular  https://facebook.com/345687158828714/posts/437...  "
      ]
     },
     "execution_count": 63,
     "metadata": {},
     "output_type": "execute_result"
    }
   ],
   "source": [
    "planilha_matriz_fortalecimento.head(2)"
   ]
  },
  {
   "cell_type": "code",
   "execution_count": 64,
   "id": "6d927ee3",
   "metadata": {},
   "outputs": [],
   "source": [
    "planilha_matriz_protagonismo = planilha_matriz[planilha_matriz['item da planilha']=='protagonismo']"
   ]
  },
  {
   "cell_type": "code",
   "execution_count": 65,
   "id": "25115a69",
   "metadata": {},
   "outputs": [
    {
     "data": {
      "text/html": [
       "<div>\n",
       "<style scoped>\n",
       "    .dataframe tbody tr th:only-of-type {\n",
       "        vertical-align: middle;\n",
       "    }\n",
       "\n",
       "    .dataframe tbody tr th {\n",
       "        vertical-align: top;\n",
       "    }\n",
       "\n",
       "    .dataframe thead th {\n",
       "        text-align: right;\n",
       "    }\n",
       "</style>\n",
       "<table border=\"1\" class=\"dataframe\">\n",
       "  <thead>\n",
       "    <tr style=\"text-align: right;\">\n",
       "      <th></th>\n",
       "      <th>item da planilha</th>\n",
       "      <th>date</th>\n",
       "      <th>impressions</th>\n",
       "      <th>reach</th>\n",
       "      <th>engagement</th>\n",
       "      <th>etiqueta</th>\n",
       "      <th>serviceLink</th>\n",
       "    </tr>\n",
       "  </thead>\n",
       "  <tbody>\n",
       "    <tr>\n",
       "      <th>26</th>\n",
       "      <td>protagonismo</td>\n",
       "      <td>2021-12-08 13:49:40</td>\n",
       "      <td>54</td>\n",
       "      <td>42.0</td>\n",
       "      <td>5</td>\n",
       "      <td>Día Internacional de la Mujer Afrolatina y Afr...</td>\n",
       "      <td>https://facebook.com/345687158828714/posts/439...</td>\n",
       "    </tr>\n",
       "    <tr>\n",
       "      <th>39</th>\n",
       "      <td>protagonismo</td>\n",
       "      <td>08/20/2021 16:04:51</td>\n",
       "      <td>120</td>\n",
       "      <td>107.0</td>\n",
       "      <td>15</td>\n",
       "      <td>Ayudas a Terceros / MCP</td>\n",
       "      <td>https://facebook.com/345687158828714/posts/442...</td>\n",
       "    </tr>\n",
       "  </tbody>\n",
       "</table>\n",
       "</div>"
      ],
      "text/plain": [
       "   item da planilha                 date  impressions  reach  engagement  \\\n",
       "26     protagonismo  2021-12-08 13:49:40           54   42.0           5   \n",
       "39     protagonismo  08/20/2021 16:04:51          120  107.0          15   \n",
       "\n",
       "                                             etiqueta  \\\n",
       "26  Día Internacional de la Mujer Afrolatina y Afr...   \n",
       "39                            Ayudas a Terceros / MCP   \n",
       "\n",
       "                                          serviceLink  \n",
       "26  https://facebook.com/345687158828714/posts/439...  \n",
       "39  https://facebook.com/345687158828714/posts/442...  "
      ]
     },
     "execution_count": 65,
     "metadata": {},
     "output_type": "execute_result"
    }
   ],
   "source": [
    "planilha_matriz_protagonismo.head(2)"
   ]
  },
  {
   "cell_type": "markdown",
   "id": "34e2226a",
   "metadata": {},
   "source": [
    "👇🏼Verifico se a quantidade de linhas permanece igual, após as modificações."
   ]
  },
  {
   "cell_type": "code",
   "execution_count": 66,
   "id": "9a565b84",
   "metadata": {},
   "outputs": [],
   "source": [
    "linhas1 = len(planilha_matriz_fortalecimento)"
   ]
  },
  {
   "cell_type": "code",
   "execution_count": 67,
   "id": "98238eb9",
   "metadata": {},
   "outputs": [],
   "source": [
    "linhas2 = len(planilha_matriz_protagonismo)"
   ]
  },
  {
   "cell_type": "code",
   "execution_count": 68,
   "id": "27024250",
   "metadata": {},
   "outputs": [
    {
     "data": {
      "text/plain": [
       "231"
      ]
     },
     "execution_count": 68,
     "metadata": {},
     "output_type": "execute_result"
    }
   ],
   "source": [
    "linhas = linhas1 + linhas2\n",
    "linhas"
   ]
  },
  {
   "cell_type": "markdown",
   "id": "749b1598",
   "metadata": {},
   "source": [
    "👇🏼Salvo as planilhas *planilha_matriz_fortalecimento* e *planilha_matriz_protagonismo* na minha máquina."
   ]
  },
  {
   "cell_type": "code",
   "execution_count": 69,
   "id": "5366a1f7",
   "metadata": {},
   "outputs": [],
   "source": [
    "planilha_matriz_fortalecimento.to_excel(r'D:/OneDrive/Documentos/_CURSOS/_MASTER/AULAS/_PROJETO FINAL/RESULTADO/Planilha-matriz-AGOSTO-fortalecimento-final.xlsx', index = False)"
   ]
  },
  {
   "cell_type": "code",
   "execution_count": 70,
   "id": "13c99507",
   "metadata": {},
   "outputs": [],
   "source": [
    "planilha_matriz_protagonismo.to_excel(r'D:/OneDrive/Documentos/_CURSOS/_MASTER/AULAS/_PROJETO FINAL/RESULTADO/Planilha-matriz-AGOSTO-protagonismo-final.xlsx', index = False)"
   ]
  }
 ],
 "metadata": {
  "kernelspec": {
   "display_name": "Python 3",
   "language": "python",
   "name": "python3"
  },
  "language_info": {
   "codemirror_mode": {
    "name": "ipython",
    "version": 3
   },
   "file_extension": ".py",
   "mimetype": "text/x-python",
   "name": "python",
   "nbconvert_exporter": "python",
   "pygments_lexer": "ipython3",
   "version": "3.8.8"
  }
 },
 "nbformat": 4,
 "nbformat_minor": 5
}

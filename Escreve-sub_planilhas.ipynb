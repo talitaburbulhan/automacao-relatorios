{
 "cells": [
  {
   "cell_type": "markdown",
   "id": "251fec01",
   "metadata": {},
   "source": [
    "# Escreve e formata planilhas no Google spreadsheets"
   ]
  },
  {
   "cell_type": "markdown",
   "id": "8b23acab",
   "metadata": {},
   "source": [
    "👇🏼 Instalo e importo as bibliotecas necessárias"
   ]
  },
  {
   "cell_type": "code",
   "execution_count": 1,
   "id": "d24464bb",
   "metadata": {
    "collapsed": true
   },
   "outputs": [
    {
     "name": "stdout",
     "output_type": "stream",
     "text": [
      "Requirement already satisfied: gspread in c:\\users\\tecnico\\anaconda3\\lib\\site-packages (5.1.1)\n",
      "Requirement already satisfied: oauth2client in c:\\users\\tecnico\\anaconda3\\lib\\site-packages (4.1.3)\n",
      "Requirement already satisfied: google-auth>=1.12.0 in c:\\users\\tecnico\\anaconda3\\lib\\site-packages (from gspread) (1.35.0)\n",
      "Requirement already satisfied: google-auth-oauthlib>=0.4.1 in c:\\users\\tecnico\\anaconda3\\lib\\site-packages (from gspread) (0.4.6)\n",
      "Requirement already satisfied: rsa<5,>=3.1.4 in c:\\users\\tecnico\\anaconda3\\lib\\site-packages (from google-auth>=1.12.0->gspread) (4.8)\n",
      "Requirement already satisfied: pyasn1-modules>=0.2.1 in c:\\users\\tecnico\\anaconda3\\lib\\site-packages (from google-auth>=1.12.0->gspread) (0.2.8)\n",
      "Requirement already satisfied: six>=1.9.0 in c:\\users\\tecnico\\anaconda3\\lib\\site-packages (from google-auth>=1.12.0->gspread) (1.15.0)\n",
      "Requirement already satisfied: cachetools<5.0,>=2.0.0 in c:\\users\\tecnico\\anaconda3\\lib\\site-packages (from google-auth>=1.12.0->gspread) (4.2.4)\n",
      "Requirement already satisfied: setuptools>=40.3.0 in c:\\users\\tecnico\\anaconda3\\lib\\site-packages (from google-auth>=1.12.0->gspread) (52.0.0.post20210125)\n",
      "Requirement already satisfied: requests-oauthlib>=0.7.0 in c:\\users\\tecnico\\anaconda3\\lib\\site-packages (from google-auth-oauthlib>=0.4.1->gspread) (1.3.0)\n",
      "Requirement already satisfied: pyasn1<0.5.0,>=0.4.6 in c:\\users\\tecnico\\anaconda3\\lib\\site-packages (from pyasn1-modules>=0.2.1->google-auth>=1.12.0->gspread) (0.4.8)\n",
      "Requirement already satisfied: oauthlib>=3.0.0 in c:\\users\\tecnico\\anaconda3\\lib\\site-packages (from requests-oauthlib>=0.7.0->google-auth-oauthlib>=0.4.1->gspread) (3.1.1)\n",
      "Requirement already satisfied: requests>=2.0.0 in c:\\users\\tecnico\\anaconda3\\lib\\site-packages (from requests-oauthlib>=0.7.0->google-auth-oauthlib>=0.4.1->gspread) (2.25.1)\n",
      "Requirement already satisfied: chardet<5,>=3.0.2 in c:\\users\\tecnico\\anaconda3\\lib\\site-packages (from requests>=2.0.0->requests-oauthlib>=0.7.0->google-auth-oauthlib>=0.4.1->gspread) (3.0.4)\n",
      "Requirement already satisfied: urllib3<1.27,>=1.21.1 in c:\\users\\tecnico\\anaconda3\\lib\\site-packages (from requests>=2.0.0->requests-oauthlib>=0.7.0->google-auth-oauthlib>=0.4.1->gspread) (1.26.4)\n",
      "Requirement already satisfied: certifi>=2017.4.17 in c:\\users\\tecnico\\anaconda3\\lib\\site-packages (from requests>=2.0.0->requests-oauthlib>=0.7.0->google-auth-oauthlib>=0.4.1->gspread) (2020.12.5)\n",
      "Requirement already satisfied: idna<3,>=2.5 in c:\\users\\tecnico\\anaconda3\\lib\\site-packages (from requests>=2.0.0->requests-oauthlib>=0.7.0->google-auth-oauthlib>=0.4.1->gspread) (2.10)\n",
      "Requirement already satisfied: httplib2>=0.9.1 in c:\\users\\tecnico\\anaconda3\\lib\\site-packages (from oauth2client) (0.20.2)\n",
      "Requirement already satisfied: pyparsing!=3.0.0,!=3.0.1,!=3.0.2,!=3.0.3,<4,>=2.4.2 in c:\\users\\tecnico\\anaconda3\\lib\\site-packages (from httplib2>=0.9.1->oauth2client) (2.4.7)\n"
     ]
    }
   ],
   "source": [
    "!pip install -U gspread oauth2client"
   ]
  },
  {
   "cell_type": "code",
   "execution_count": null,
   "id": "fb901ca5",
   "metadata": {},
   "outputs": [],
   "source": [
    "!pip install gspread-formatting"
   ]
  },
  {
   "cell_type": "code",
   "execution_count": 226,
   "id": "3009c7de",
   "metadata": {},
   "outputs": [],
   "source": [
    "import time\n",
    "import gspread\n",
    "import json\n",
    "import os\n",
    "import pandas as pd\n",
    "from gspread_formatting import *\n",
    "from escreve_subplanilhas import escreve_planilha"
   ]
  },
  {
   "cell_type": "markdown",
   "id": "58184151",
   "metadata": {},
   "source": [
    "👇🏼 Localizo na minha máquina o arquivo JSON que serve como credencial para integrar o python à API do Google spreadsheet"
   ]
  },
  {
   "cell_type": "code",
   "execution_count": 229,
   "id": "20a56cae",
   "metadata": {},
   "outputs": [],
   "source": [
    "os.chdir(\"D:/OneDrive/Documentos/_CURSOS/_MASTER/AULAS/_PROJETO FINAL/NOTEBOOKS\")"
   ]
  },
  {
   "cell_type": "markdown",
   "id": "2ce95816",
   "metadata": {},
   "source": [
    "👇🏼 Faço a integração com o Google spreadsheet. Importante destacar que futuramente, quando o código for disponibilizado para o público em geral, as variáveis \"nome\" e \"spreadsheet_id\" serão revogadas e transformadas em variáveis de ambiente. Não é uma boa prática deixar visível no Github qualquer tipo de chave.  "
   ]
  },
  {
   "cell_type": "code",
   "execution_count": 230,
   "id": "3cec2d83",
   "metadata": {},
   "outputs": [],
   "source": [
    "nome = \"credencial-google-sheets.json\"\n",
    "spreadsheet_id = \"1jMikjV_8-L_9SvE4jn49ZxWAT5yTDD9p48oPvYk-AIM\"\n",
    "arquivo = open(nome)\n",
    "credentials = json.load(arquivo)\n",
    "service_account = gspread.service_account_from_dict(credentials)\n",
    "spreadsheet = service_account.open_by_key(spreadsheet_id)"
   ]
  },
  {
   "cell_type": "markdown",
   "id": "e8a600e7",
   "metadata": {},
   "source": [
    "👇🏼 Localizo a *planilha_matriz* na minha máquina"
   ]
  },
  {
   "cell_type": "code",
   "execution_count": 231,
   "id": "ce45f550",
   "metadata": {},
   "outputs": [],
   "source": [
    "os.chdir('D:/OneDrive/Documentos/_CURSOS/_MASTER/AULAS/_PROJETO FINAL/RESULTADO')"
   ]
  },
  {
   "cell_type": "markdown",
   "id": "80d94c53",
   "metadata": {},
   "source": [
    "👇🏼 Listo as planilhas disponíveis e importo a que me interessa"
   ]
  },
  {
   "cell_type": "code",
   "execution_count": 232,
   "id": "f54b5a2b",
   "metadata": {},
   "outputs": [
    {
     "data": {
      "text/plain": [
       "['Planilha-matriz-AGOSTO-fortalecimento-final.xlsx',\n",
       " 'Planilha-matriz-AGOSTO-protagonismo-final.xlsx',\n",
       " 'Planilha-matriz-OUT-fortalecimento-final.xlsx',\n",
       " 'Planilha-matriz-OUT-protagonismo-final.xlsx',\n",
       " 'Planilha-matriz-SET-fortalecimento-final.xlsx',\n",
       " 'Planilha-matriz-SET-protagonismo-final.xlsx']"
      ]
     },
     "execution_count": 232,
     "metadata": {},
     "output_type": "execute_result"
    }
   ],
   "source": [
    "os.listdir()"
   ]
  },
  {
   "cell_type": "code",
   "execution_count": 233,
   "id": "e36d5b2c",
   "metadata": {},
   "outputs": [],
   "source": [
    "dataframe = pd.read_excel(\"Planilha-matriz-AGOSTO-fortalecimento-final.xlsx\")\n",
    "worksheet = spreadsheet.worksheet(\"Agosto-2021\")"
   ]
  },
  {
   "cell_type": "markdown",
   "id": "7953ed08",
   "metadata": {},
   "source": [
    "👇🏼 Chamo a função que escreve as observações automaticamente as observações no Google spreadsheet"
   ]
  },
  {
   "cell_type": "code",
   "execution_count": 234,
   "id": "2915cadc",
   "metadata": {},
   "outputs": [
    {
     "name": "stdout",
     "output_type": "stream",
     "text": [
      "Atualização concluída\n"
     ]
    }
   ],
   "source": [
    "def atualizar_planilha():\n",
    "    dataframe = pd.read_excel(\"Planilha-matriz-AGOSTO-fortalecimento-final.xlsx\")\n",
    "    worksheet = spreadsheet.worksheet(\"Agosto-2021\") \n",
    "    escreve_planilha(dataframe, worksheet)\n",
    "    \n",
    "atualizar_planilha()"
   ]
  },
  {
   "cell_type": "markdown",
   "id": "950fb8ce",
   "metadata": {},
   "source": [
    "## Formatação do cabeçalho"
   ]
  },
  {
   "cell_type": "markdown",
   "id": "df8ddc9a",
   "metadata": {},
   "source": [
    "Como o cabeçalho possui sempre a mesma localização dentro da planilha, a formatação dele é resolvida rapidamente, rodando o seguinte trecho de código"
   ]
  },
  {
   "cell_type": "code",
   "execution_count": 196,
   "id": "d81dcda0",
   "metadata": {},
   "outputs": [
    {
     "data": {
      "text/plain": [
       "{'spreadsheetId': '1jMikjV_8-L_9SvE4jn49ZxWAT5yTDD9p48oPvYk-AIM',\n",
       " 'replies': [{}]}"
      ]
     },
     "execution_count": 196,
     "metadata": {},
     "output_type": "execute_result"
    }
   ],
   "source": [
    "fmt = cellFormat(\n",
    "    backgroundColor=color(0, 0, 1),\n",
    "    textFormat=textFormat(bold=True, foregroundColor=color(1, 1, 1)),\n",
    "    horizontalAlignment='LEFT'\n",
    "    )\n",
    "\n",
    "fmt1 = cellFormat(\n",
    "    textFormat=textFormat(bold=True, foregroundColor=color(0, 0, 1)),\n",
    "    horizontalAlignment='LEFT'\n",
    "    )\n",
    "\n",
    "\n",
    "fmt2 = cellFormat(\n",
    "    textFormat=textFormat(bold=True),\n",
    "    horizontalAlignment='LEFT'\n",
    "    )\n",
    "\n",
    "format_cell_ranges(worksheet, [('A1:F1', fmt), ('A2:F2', fmt1), ('A3:F3', fmt2)])\n",
    "set_frozen(worksheet, rows=1)\n",
    "set_frozen(worksheet, rows=2)\n",
    "set_frozen(worksheet, rows=3)"
   ]
  },
  {
   "cell_type": "markdown",
   "id": "76e5d897",
   "metadata": {},
   "source": [
    "## Formatação dos títulos das sub-planilhas"
   ]
  },
  {
   "cell_type": "markdown",
   "id": "226f40c6",
   "metadata": {},
   "source": [
    "Como a quantidade de postagens de cada sub-planilha muda todo mês, impossibilitando saber previamente onde começa uma tabela e termina a outra, para formatar o título das sub-planilha é necessario descobrir primeiro a localização da primeira linha de cada uma delas. Ao descobrir o número da linha, aplica-se a formatação."
   ]
  },
  {
   "cell_type": "code",
   "execution_count": 197,
   "id": "24a7f98c",
   "metadata": {},
   "outputs": [
    {
     "data": {
      "text/plain": [
       "4"
      ]
     },
     "execution_count": 197,
     "metadata": {},
     "output_type": "execute_result"
    }
   ],
   "source": [
    "localizacao = worksheet.find(\"Campaña Defensa de Defensores y Defensoras\")\n",
    "linha = localizacao.row\n",
    "linha"
   ]
  },
  {
   "cell_type": "code",
   "execution_count": 198,
   "id": "6cd2374f",
   "metadata": {},
   "outputs": [
    {
     "data": {
      "text/plain": [
       "{'spreadsheetId': '1jMikjV_8-L_9SvE4jn49ZxWAT5yTDD9p48oPvYk-AIM',\n",
       " 'replies': [{}]}"
      ]
     },
     "execution_count": 198,
     "metadata": {},
     "output_type": "execute_result"
    }
   ],
   "source": [
    "fmt3 = cellFormat(\n",
    "    backgroundColor=color(0.9, 0.9, 0.9),\n",
    "    textFormat=textFormat(bold=True),\n",
    "    horizontalAlignment='LEFT'\n",
    "    )\n",
    "\n",
    "format_cell_range(worksheet, '4' , fmt3)"
   ]
  },
  {
   "cell_type": "code",
   "execution_count": 199,
   "id": "cbe7bd12",
   "metadata": {},
   "outputs": [
    {
     "data": {
      "text/plain": [
       "98"
      ]
     },
     "execution_count": 199,
     "metadata": {},
     "output_type": "execute_result"
    }
   ],
   "source": [
    "localizacao = worksheet.find(\"Campaña La Vida Antes que la Deuda\")\n",
    "linha = localizacao.row\n",
    "linha"
   ]
  },
  {
   "cell_type": "code",
   "execution_count": 200,
   "id": "80c14e40",
   "metadata": {},
   "outputs": [
    {
     "data": {
      "text/plain": [
       "{'spreadsheetId': '1jMikjV_8-L_9SvE4jn49ZxWAT5yTDD9p48oPvYk-AIM',\n",
       " 'replies': [{}]}"
      ]
     },
     "execution_count": 200,
     "metadata": {},
     "output_type": "execute_result"
    }
   ],
   "source": [
    "fmt3 = cellFormat(\n",
    "    backgroundColor=color(0.9, 0.9, 0.9),\n",
    "    textFormat=textFormat(bold=True),\n",
    "    horizontalAlignment='LEFT'\n",
    "    )\n",
    "\n",
    "format_cell_range(worksheet, '98' , fmt3)"
   ]
  },
  {
   "cell_type": "code",
   "execution_count": 201,
   "id": "c74c6601",
   "metadata": {},
   "outputs": [
    {
     "data": {
      "text/plain": [
       "102"
      ]
     },
     "execution_count": 201,
     "metadata": {},
     "output_type": "execute_result"
    }
   ],
   "source": [
    "localizacao = worksheet.find(\"Acción Protagonismo\")\n",
    "linha = localizacao.row\n",
    "linha"
   ]
  },
  {
   "cell_type": "code",
   "execution_count": 202,
   "id": "0ebbdbed",
   "metadata": {},
   "outputs": [
    {
     "data": {
      "text/plain": [
       "{'spreadsheetId': '1jMikjV_8-L_9SvE4jn49ZxWAT5yTDD9p48oPvYk-AIM',\n",
       " 'replies': [{}]}"
      ]
     },
     "execution_count": 202,
     "metadata": {},
     "output_type": "execute_result"
    }
   ],
   "source": [
    "fmt3 = cellFormat(\n",
    "    backgroundColor=color(0.9, 0.9, 0.9),\n",
    "    textFormat=textFormat(bold=True),\n",
    "    horizontalAlignment='LEFT'\n",
    "    )\n",
    "\n",
    "format_cell_range(worksheet, '102' , fmt3)"
   ]
  },
  {
   "cell_type": "code",
   "execution_count": 203,
   "id": "2a286cc4",
   "metadata": {},
   "outputs": [
    {
     "data": {
      "text/plain": [
       "106"
      ]
     },
     "execution_count": 203,
     "metadata": {},
     "output_type": "execute_result"
    }
   ],
   "source": [
    "localizacao = worksheet.find(\"Campaña Justicia Socio ecológica\")\n",
    "linha = localizacao.row\n",
    "linha"
   ]
  },
  {
   "cell_type": "code",
   "execution_count": 204,
   "id": "0ec82a9b",
   "metadata": {},
   "outputs": [
    {
     "data": {
      "text/plain": [
       "{'spreadsheetId': '1jMikjV_8-L_9SvE4jn49ZxWAT5yTDD9p48oPvYk-AIM',\n",
       " 'replies': [{}]}"
      ]
     },
     "execution_count": 204,
     "metadata": {},
     "output_type": "execute_result"
    }
   ],
   "source": [
    "fmt3 = cellFormat(\n",
    "    backgroundColor=color(0.9, 0.9, 0.9),\n",
    "    textFormat=textFormat(bold=True),\n",
    "    horizontalAlignment='LEFT'\n",
    "    )\n",
    "\n",
    "format_cell_range(worksheet, '106' , fmt3)"
   ]
  },
  {
   "cell_type": "code",
   "execution_count": 205,
   "id": "9b23ff23",
   "metadata": {},
   "outputs": [
    {
     "data": {
      "text/plain": [
       "119"
      ]
     },
     "execution_count": 205,
     "metadata": {},
     "output_type": "execute_result"
    }
   ],
   "source": [
    "localizacao = worksheet.find(\"Megaproyectos,Militarización, TLC\")\n",
    "linha = localizacao.row\n",
    "linha"
   ]
  },
  {
   "cell_type": "code",
   "execution_count": 206,
   "id": "f73fcb94",
   "metadata": {},
   "outputs": [
    {
     "data": {
      "text/plain": [
       "{'spreadsheetId': '1jMikjV_8-L_9SvE4jn49ZxWAT5yTDD9p48oPvYk-AIM',\n",
       " 'replies': [{}]}"
      ]
     },
     "execution_count": 206,
     "metadata": {},
     "output_type": "execute_result"
    }
   ],
   "source": [
    "fmt3 = cellFormat(\n",
    "    backgroundColor=color(0.9, 0.9, 0.9),\n",
    "    textFormat=textFormat(bold=True),\n",
    "    horizontalAlignment='LEFT'\n",
    "    )\n",
    "\n",
    "format_cell_range(worksheet, '119' , fmt3)"
   ]
  },
  {
   "cell_type": "code",
   "execution_count": 207,
   "id": "43c2fae5",
   "metadata": {},
   "outputs": [
    {
     "data": {
      "text/plain": [
       "123"
      ]
     },
     "execution_count": 207,
     "metadata": {},
     "output_type": "execute_result"
    }
   ],
   "source": [
    "localizacao = worksheet.find(\"Militarización; Ocupación; Cuba Salva No al Bloqueo; Palestina Libre\")\n",
    "linha = localizacao.row\n",
    "linha"
   ]
  },
  {
   "cell_type": "code",
   "execution_count": 208,
   "id": "1b024f98",
   "metadata": {},
   "outputs": [
    {
     "data": {
      "text/plain": [
       "{'spreadsheetId': '1jMikjV_8-L_9SvE4jn49ZxWAT5yTDD9p48oPvYk-AIM',\n",
       " 'replies': [{}]}"
      ]
     },
     "execution_count": 208,
     "metadata": {},
     "output_type": "execute_result"
    }
   ],
   "source": [
    "fmt3 = cellFormat(\n",
    "    backgroundColor=color(0.9, 0.9, 0.9),\n",
    "    textFormat=textFormat(bold=True),\n",
    "    horizontalAlignment='LEFT'\n",
    "    )\n",
    "\n",
    "format_cell_range(worksheet, '123' , fmt3)"
   ]
  },
  {
   "cell_type": "code",
   "execution_count": 209,
   "id": "aaf04caf",
   "metadata": {},
   "outputs": [
    {
     "data": {
      "text/plain": [
       "127"
      ]
     },
     "execution_count": 209,
     "metadata": {},
     "output_type": "execute_result"
    }
   ],
   "source": [
    "localizacao = worksheet.find(\"Notas/Comunicados\")\n",
    "linha = localizacao.row\n",
    "linha"
   ]
  },
  {
   "cell_type": "code",
   "execution_count": 210,
   "id": "2d87082c",
   "metadata": {},
   "outputs": [
    {
     "data": {
      "text/plain": [
       "{'spreadsheetId': '1jMikjV_8-L_9SvE4jn49ZxWAT5yTDD9p48oPvYk-AIM',\n",
       " 'replies': [{}]}"
      ]
     },
     "execution_count": 210,
     "metadata": {},
     "output_type": "execute_result"
    }
   ],
   "source": [
    "fmt3 = cellFormat(\n",
    "    backgroundColor=color(0.9, 0.9, 0.9),\n",
    "    textFormat=textFormat(bold=True),\n",
    "    horizontalAlignment='LEFT'\n",
    "    )\n",
    "\n",
    "format_cell_range(worksheet, '127' , fmt3)"
   ]
  },
  {
   "cell_type": "code",
   "execution_count": 211,
   "id": "669bdbdc",
   "metadata": {},
   "outputs": [
    {
     "data": {
      "text/plain": [
       "160"
      ]
     },
     "execution_count": 211,
     "metadata": {},
     "output_type": "execute_result"
    }
   ],
   "source": [
    "localizacao = worksheet.find(\"Estudios,  Boletines, Investigaciones\")\n",
    "linha = localizacao.row\n",
    "linha"
   ]
  },
  {
   "cell_type": "code",
   "execution_count": 212,
   "id": "46486ac1",
   "metadata": {},
   "outputs": [
    {
     "data": {
      "text/plain": [
       "{'spreadsheetId': '1jMikjV_8-L_9SvE4jn49ZxWAT5yTDD9p48oPvYk-AIM',\n",
       " 'replies': [{}]}"
      ]
     },
     "execution_count": 212,
     "metadata": {},
     "output_type": "execute_result"
    }
   ],
   "source": [
    "fmt3 = cellFormat(\n",
    "    backgroundColor=color(0.9, 0.9, 0.9),\n",
    "    textFormat=textFormat(bold=True),\n",
    "    horizontalAlignment='LEFT'\n",
    "    )\n",
    "\n",
    "format_cell_range(worksheet, '160' , fmt3)"
   ]
  },
  {
   "cell_type": "code",
   "execution_count": 213,
   "id": "9efccee3",
   "metadata": {},
   "outputs": [
    {
     "data": {
      "text/plain": [
       "165"
      ]
     },
     "execution_count": 213,
     "metadata": {},
     "output_type": "execute_result"
    }
   ],
   "source": [
    "localizacao = worksheet.find(\"Eventos Públicos, Foros, Seminarios - por favor en referencia ubicar a que sub actividad pertenece cada evento\")\n",
    "linha = localizacao.row\n",
    "linha"
   ]
  },
  {
   "cell_type": "code",
   "execution_count": 214,
   "id": "4de12d09",
   "metadata": {},
   "outputs": [
    {
     "data": {
      "text/plain": [
       "{'spreadsheetId': '1jMikjV_8-L_9SvE4jn49ZxWAT5yTDD9p48oPvYk-AIM',\n",
       " 'replies': [{}]}"
      ]
     },
     "execution_count": 214,
     "metadata": {},
     "output_type": "execute_result"
    }
   ],
   "source": [
    "fmt3 = cellFormat(\n",
    "    backgroundColor=color(0.9, 0.9, 0.9),\n",
    "    textFormat=textFormat(bold=True),\n",
    "    horizontalAlignment='LEFT'\n",
    "    )\n",
    "\n",
    "format_cell_range(worksheet, '165' , fmt3)"
   ]
  },
  {
   "cell_type": "code",
   "execution_count": 215,
   "id": "126fe80e",
   "metadata": {},
   "outputs": [
    {
     "data": {
      "text/plain": [
       "169"
      ]
     },
     "execution_count": 215,
     "metadata": {},
     "output_type": "execute_result"
    }
   ],
   "source": [
    "localizacao = worksheet.find(\"Publicaciones de Aliades; Efemérides Relevantes y Trabajos con Red de Comunicadores\")\n",
    "linha = localizacao.row\n",
    "linha"
   ]
  },
  {
   "cell_type": "code",
   "execution_count": 216,
   "id": "59a7e712",
   "metadata": {},
   "outputs": [
    {
     "data": {
      "text/plain": [
       "{'spreadsheetId': '1jMikjV_8-L_9SvE4jn49ZxWAT5yTDD9p48oPvYk-AIM',\n",
       " 'replies': [{}]}"
      ]
     },
     "execution_count": 216,
     "metadata": {},
     "output_type": "execute_result"
    }
   ],
   "source": [
    "fmt3 = cellFormat(\n",
    "    backgroundColor=color(0.9, 0.9, 0.9),\n",
    "    textFormat=textFormat(bold=True),\n",
    "    horizontalAlignment='LEFT'\n",
    "    )\n",
    "\n",
    "format_cell_range(worksheet, '169' , fmt3)"
   ]
  },
  {
   "cell_type": "code",
   "execution_count": 217,
   "id": "aec06c4d",
   "metadata": {},
   "outputs": [
    {
     "data": {
      "text/plain": [
       "229"
      ]
     },
     "execution_count": 217,
     "metadata": {},
     "output_type": "execute_result"
    }
   ],
   "source": [
    "localizacao = worksheet.find(\"Ayudas a Terceros/ Fortalecimiento territorial\")\n",
    "linha = localizacao.row\n",
    "linha"
   ]
  },
  {
   "cell_type": "code",
   "execution_count": 218,
   "id": "02c84acb",
   "metadata": {},
   "outputs": [
    {
     "data": {
      "text/plain": [
       "{'spreadsheetId': '1jMikjV_8-L_9SvE4jn49ZxWAT5yTDD9p48oPvYk-AIM',\n",
       " 'replies': [{}]}"
      ]
     },
     "execution_count": 218,
     "metadata": {},
     "output_type": "execute_result"
    }
   ],
   "source": [
    "fmt3 = cellFormat(\n",
    "    backgroundColor=color(0.9, 0.9, 0.9),\n",
    "    textFormat=textFormat(bold=True),\n",
    "    horizontalAlignment='LEFT'\n",
    "    )\n",
    "\n",
    "format_cell_range(worksheet, '229' , fmt3)"
   ]
  },
  {
   "cell_type": "code",
   "execution_count": 220,
   "id": "054670d4",
   "metadata": {},
   "outputs": [
    {
     "ename": "AttributeError",
     "evalue": "'NoneType' object has no attribute 'row'",
     "output_type": "error",
     "traceback": [
      "\u001b[1;31m---------------------------------------------------------------------------\u001b[0m",
      "\u001b[1;31mAttributeError\u001b[0m                            Traceback (most recent call last)",
      "\u001b[1;32m<ipython-input-220-d975150e0c26>\u001b[0m in \u001b[0;36m<module>\u001b[1;34m\u001b[0m\n\u001b[0;32m      1\u001b[0m \u001b[0mlocalizacao\u001b[0m \u001b[1;33m=\u001b[0m \u001b[0mworksheet\u001b[0m\u001b[1;33m.\u001b[0m\u001b[0mfind\u001b[0m\u001b[1;33m(\u001b[0m\u001b[1;34m\"Inserciones mensuales de la Red JSB en medios de comunicación  de nivel nacional o regional\"\u001b[0m\u001b[1;33m)\u001b[0m\u001b[1;33m\u001b[0m\u001b[1;33m\u001b[0m\u001b[0m\n\u001b[1;32m----> 2\u001b[1;33m \u001b[0mlinha\u001b[0m \u001b[1;33m=\u001b[0m \u001b[0mlocalizacao\u001b[0m\u001b[1;33m.\u001b[0m\u001b[0mrow\u001b[0m\u001b[1;33m\u001b[0m\u001b[1;33m\u001b[0m\u001b[0m\n\u001b[0m\u001b[0;32m      3\u001b[0m \u001b[0mlinha\u001b[0m\u001b[1;33m\u001b[0m\u001b[1;33m\u001b[0m\u001b[0m\n",
      "\u001b[1;31mAttributeError\u001b[0m: 'NoneType' object has no attribute 'row'"
     ]
    }
   ],
   "source": [
    "localizacao = worksheet.find(\"Inserciones mensuales de la Red JSB en medios de comunicación  de nivel nacional o regional\")\n",
    "linha = localizacao.row\n",
    "linha"
   ]
  },
  {
   "cell_type": "code",
   "execution_count": 221,
   "id": "70104e85",
   "metadata": {},
   "outputs": [
    {
     "data": {
      "text/plain": [
       "270"
      ]
     },
     "execution_count": 221,
     "metadata": {},
     "output_type": "execute_result"
    }
   ],
   "source": [
    "localizacao = worksheet.find(\"CHECAR\")\n",
    "linha = localizacao.row\n",
    "linha"
   ]
  },
  {
   "cell_type": "code",
   "execution_count": 222,
   "id": "2377c7f4",
   "metadata": {},
   "outputs": [
    {
     "data": {
      "text/plain": [
       "{'spreadsheetId': '1jMikjV_8-L_9SvE4jn49ZxWAT5yTDD9p48oPvYk-AIM',\n",
       " 'replies': [{}]}"
      ]
     },
     "execution_count": 222,
     "metadata": {},
     "output_type": "execute_result"
    }
   ],
   "source": [
    "fmt3 = cellFormat(\n",
    "    backgroundColor=color(0.9, 0.9, 0.9),\n",
    "    textFormat=textFormat(bold=True, foregroundColor=color(1, 0, 0)),\n",
    "    horizontalAlignment='LEFT'\n",
    "    )\n",
    "\n",
    "format_cell_range(worksheet, '270' , fmt3)"
   ]
  }
 ],
 "metadata": {
  "kernelspec": {
   "display_name": "Python 3",
   "language": "python",
   "name": "python3"
  },
  "language_info": {
   "codemirror_mode": {
    "name": "ipython",
    "version": 3
   },
   "file_extension": ".py",
   "mimetype": "text/x-python",
   "name": "python",
   "nbconvert_exporter": "python",
   "pygments_lexer": "ipython3",
   "version": "3.8.8"
  }
 },
 "nbformat": 4,
 "nbformat_minor": 5
}
